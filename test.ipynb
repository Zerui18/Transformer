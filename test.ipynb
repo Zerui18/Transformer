{
 "cells": [
  {
   "cell_type": "code",
   "execution_count": null,
   "metadata": {},
   "outputs": [],
   "source": [
    "import sentencepiece as sp"
   ]
  },
  {
   "cell_type": "code",
   "execution_count": null,
   "metadata": {},
   "outputs": [],
   "source": [
    "import os\n",
    "\n",
    "''' Concatenate the contents of all files in the data folder into one single text file named full.txt. '''\n",
    "def concat_files():\n",
    "    with open('full.txt', 'w', encoding='utf8') as f:\n",
    "        for file in os.listdir('data'):\n",
    "            with open(os.path.join('data', file), encoding='utf8') as g:\n",
    "                f.write(g.read())\n",
    "\n",
    "concat_files()"
   ]
  },
  {
   "cell_type": "code",
   "execution_count": null,
   "metadata": {},
   "outputs": [],
   "source": [
    "sp.SentencePieceTrainer.train(input='full.txt', model_prefix='m_en_de', vocab_size=15000, model_type='unigram', character_coverage=1.0, input_sentence_size=10000000, shuffle_input_sentence=True, max_sentence_length=1000, num_threads=16, unk_id=0, bos_id=1, eos_id=2, pad_id=3)"
   ]
  },
  {
   "cell_type": "code",
   "execution_count": null,
   "metadata": {},
   "outputs": [],
   "source": [
    "import torch\n",
    "import numpy as np"
   ]
  },
  {
   "cell_type": "code",
   "execution_count": null,
   "metadata": {},
   "outputs": [],
   "source": [
    "def subsequent_mask(size):\n",
    "    \"Mask out subsequent positions.\"\n",
    "    attn_shape = (1, size, size)\n",
    "    subsequent_mask = np.tril(np.ones(attn_shape)).astype('uint8')\n",
    "    return torch.from_numpy(subsequent_mask)"
   ]
  },
  {
   "cell_type": "code",
   "execution_count": null,
   "metadata": {},
   "outputs": [],
   "source": [
    "mask = subsequent_mask(10)\n",
    "mask"
   ]
  },
  {
   "cell_type": "code",
   "execution_count": null,
   "metadata": {},
   "outputs": [],
   "source": [
    "# fill mask with -inf\n",
    "mask = mask.float().masked_fill(mask == 0, float('-inf'))\n",
    "mask[0, 0, 0] = 1e-9\n",
    "mask"
   ]
  },
  {
   "cell_type": "code",
   "execution_count": null,
   "metadata": {},
   "outputs": [],
   "source": [
    "torch.tensor(1e-46, dtype=torch.float32) == torch.tensor(0, dtype=torch.float32)"
   ]
  },
  {
   "cell_type": "code",
   "execution_count": null,
   "metadata": {},
   "outputs": [],
   "source": [
    "torch.nn.functional.softmax(mask, dim=-1)"
   ]
  },
  {
   "cell_type": "code",
   "execution_count": null,
   "metadata": {},
   "outputs": [],
   "source": [
    "class FibonacciDataset(torch.utils.data.Dataset):\n",
    "    \n",
    "\t''' A toy dataset that generates pairs of fibonaci sequences starting at a random float between -1 and 1.\n",
    "\tThe second sequence is the first sequence shifted by one position to the right.\n",
    "\t '''\n",
    "\n",
    "\tdef __init__(self, block_size=16):\n",
    "\t\tsuper().__init__()\n",
    "\t\tself.block_size = block_size\n",
    "\n",
    "\tdef __getitem__(self, idx):\n",
    "\t\tstart = np.random.uniform(-1, 1)\n",
    "\t\tfib = [start, start]\n",
    "\t\tfor i in range(self.block_size - 1):\n",
    "\t\t\tfib.append(fib[-1] + fib[-2])\n",
    "\t\tx = torch.tensor(fib[:-1], dtype=torch.float32)\n",
    "\t\ty = torch.tensor(fib[1:], dtype=torch.float32)\n",
    "\t\treturn x, y\n",
    "\t\n",
    "\tdef __len__(self):\n",
    "\t\treturn 10000000000000\n",
    "\n",
    "FibonacciDataset()[0]"
   ]
  },
  {
   "cell_type": "code",
   "execution_count": 64,
   "metadata": {},
   "outputs": [],
   "source": [
    "class ReversionDataset(torch.utils.data.Dataset):\n",
    "\t\n",
    "\t''' A toy dataset that generates pairs of sequences, where the second sequence is the first sequence reversed.\n",
    "\t '''\n",
    "\n",
    "\tdef __init__(self, block_size=16):\n",
    "\t\tsuper().__init__()\n",
    "\t\tself.block_size = block_size\n",
    "\n",
    "\tdef __getitem__(self, idx):\n",
    "\t\t''' Generate a random sequence of float starting from a number between -1 and 1 and its reverse. '''\n",
    "\t\tseq = np.random.uniform(-1, 1, size=(self.block_size,))\n",
    "\t\tx = torch.tensor(seq, dtype=torch.float32)\n",
    "\t\ty = torch.tensor(seq, dtype=torch.float32).flip(dims=(0,))\n",
    "\t\treturn x, y\n",
    "\t\n",
    "\tdef __len__(self):\n",
    "\t\treturn 10000000000000"
   ]
  },
  {
   "cell_type": "code",
   "execution_count": 31,
   "metadata": {},
   "outputs": [],
   "source": [
    "from torch import nn, Tensor\n",
    "import torch.nn.functional as F\n",
    "\n",
    "class InputEmbeddings(nn.Module):\n",
    "\t''' Apply learnable token and position embeddings to input tokens. '''\n",
    "\n",
    "\tdef __init__(self, vocab_size: int, emb_dim: int, block_size: int):\n",
    "\t\tsuper().__init__()\n",
    "\t\tself.token_embedding_table = nn.Embedding(vocab_size, emb_dim)\n",
    "\t\tself.position_embedding_table = nn.Embedding(block_size, emb_dim)\n",
    "\t\tself.register_buffer('pos_emb_index', torch.arange(block_size))\n",
    "\t\n",
    "\tdef forward(self, x: Tensor):\n",
    "\t\tB, T = x.shape\n",
    "\t\ttok_embd = self.token_embedding_table(x)\n",
    "\t\tpos_embd = self.position_embedding_table(self.pos_emb_index[:T])\n",
    "\t\treturn tok_embd + pos_embd\n",
    "\n",
    "class MultiHeadSelfAttention(nn.Module):\n",
    "\n",
    "\t''' Multi-head self attention.\n",
    "\tImplements a somewhat optimized version of the self attention by combining the q, k, v projections.\n",
    "\t\n",
    "\tInputs:\n",
    "\t\tx: input tensor of shape (B, T, C)\n",
    "\t\tmask: mask tensor of shape broadcastable to (B, T, T)\n",
    "\t'''\n",
    "\n",
    "\tdef __init__(self, n_heads: int, emb_dim: int, bias: bool, block_size: int, is_causal: bool = False):\n",
    "\t\tsuper().__init__()\n",
    "\t\tself.is_causal = is_causal\n",
    "\t\tself.n_heads = n_heads\n",
    "\t\tself.emb_dim = emb_dim\n",
    "\t\t# combine q, k, v projections for efficiency\n",
    "\t\tself.qkv_projection = nn.Linear(emb_dim, 3 * emb_dim, bias=bias)\n",
    "\t\tself.register_buffer('scale', torch.tensor(emb_dim ** -0.5, dtype=torch.float32))\n",
    "\t\tif is_causal:\n",
    "\t\t\tself.register_buffer('causal_mask', torch.tril(torch.ones(1, block_size, block_size, dtype=torch.bool)))\n",
    "\n",
    "\tdef forward(self, x: Tensor, mask: Tensor, return_attentions: bool = False):\n",
    "\t\tB, T, C = x.shape\n",
    "\t\t# proj q, k, v for all heads\n",
    "\t\t# the heads are treated as a batch dimension\n",
    "\t\tq, k, v = self.qkv_projection(x).split(self.emb_dim, dim=2)\n",
    "\t\tq = q.view(B, T, self.n_heads, C // self.n_heads).transpose(1, 2)\n",
    "\t\tk = k.view(B, T, self.n_heads, C // self.n_heads).transpose(1, 2)\n",
    "\t\tv = v.view(B, T, self.n_heads, C // self.n_heads).transpose(1, 2)\n",
    "\t\t# compute attention\n",
    "\t\tatt_weights = (q @ k.transpose(-2, -1)) / self.scale\n",
    "\t\tmask = mask.unsqueeze(1) # apply mask over all heads\n",
    "\t\tif self.is_causal:\n",
    "\t\t\tmask = mask & self.causal_mask[:, :T, :T]\n",
    "\t\tatt_weights = att_weights.masked_fill(mask == 0, -1e9)\n",
    "\t\tatt_weights = F.softmax(att_weights, dim=-1)\n",
    "\t\ty = att_weights @ v\n",
    "\t\t# combine heads\n",
    "\t\ty = y.transpose(1, 2).contiguous().view(B, T, C)\n",
    "\t\tif return_attentions:\n",
    "\t\t\treturn y, att_weights, v\n",
    "\t\treturn y\n",
    "\n",
    "class MultiHeadCrossAttention(nn.Module):\n",
    "\n",
    "\t''' Multi-head cross attention.\n",
    "\tImplements a somewhat optimized version of the cross attention by combining the k, v projections.\n",
    "\t\n",
    "\tInputs:\n",
    "\t\tx_q: query tensor of shape (B, T, C)\n",
    "\t\tx_kv: key and value tensor of shape (B, T, C)\n",
    "\t\tmask: mask tensor of shape broadcastable to (B, T, T)\n",
    "\t'''\n",
    "\n",
    "\tdef __init__(self, n_heads: int, emb_dim: int, bias: bool):\n",
    "\t\tsuper().__init__()\n",
    "\t\tself.n_heads = n_heads\n",
    "\t\tself.emb_dim = emb_dim\n",
    "\t\tself.q_projection = nn.Linear(emb_dim, emb_dim, bias=bias)\n",
    "\t\t# combine k, v projections for efficiency\n",
    "\t\tself.kv_projection = nn.Linear(emb_dim, 2 * emb_dim, bias=bias)\n",
    "\t\tself.register_buffer('scale', torch.tensor(emb_dim ** -0.5, dtype=torch.float32))\n",
    "\n",
    "\tdef forward(self, x_q: Tensor, x_kv: Tensor, mask: Tensor):\n",
    "\t\t# proj query for all heads\n",
    "\t\tB, T, C = x_q.shape\n",
    "\t\tq = self.q_projection(x_q)\n",
    "\t\tq = q.view(B, T, self.n_heads, C // self.n_heads).transpose(1, 2)\n",
    "\t\t# proj key & value for all heads\n",
    "\t\tB, T, C = x_kv.shape\n",
    "\t\tk, v = self.kv_projection(x_kv).split(self.emb_dim, dim=2)\n",
    "\t\tk = k.view(B, T, self.n_heads, C // self.n_heads).transpose(1, 2)\n",
    "\t\tv = v.view(B, T, self.n_heads, C // self.n_heads).transpose(1, 2)\n",
    "\t\t# compute attention\n",
    "\t\tatt_weights = (q @ k.transpose(-2, -1)) / self.scale\n",
    "\t\tmask = mask.unsqueeze(1) # apply mask over all heads\n",
    "\t\tatt_weights = att_weights.masked_fill(mask == 0, -1e9)\n",
    "\t\tatt_weights = F.softmax(att_weights, dim=-1)\n",
    "\t\ty = att_weights @ v\n",
    "\t\t# combine heads\n",
    "\t\ty = y.transpose(1, 2).contiguous().view(B, T, C)\n",
    "\t\treturn y\n",
    "\n",
    "class FeedFoward(nn.Module):\n",
    "\n",
    "\tdef __init__(self, emb_dim: int, dropout: float = 0.0):\n",
    "\t\tsuper().__init__()\n",
    "\t\tself.net = nn.Sequential(\n",
    "\t\t\tnn.Linear(emb_dim, 4 * emb_dim),\n",
    "\t\t\tnn.ReLU(),\n",
    "\t\t\tnn.Linear(4 * emb_dim, emb_dim),\n",
    "\t\t)\n",
    "\t\tif dropout:\n",
    "\t\t\tself.net.append(nn.Dropout(dropout))\n",
    "\n",
    "\tdef forward(self, x: Tensor):\n",
    "\t\treturn self.net(x)\n",
    "\t\n",
    "class LMHead(nn.Module):\n",
    "\n",
    "\tdef __init__(self, emb_dim: int, vocab_size: int):\n",
    "\t\tsuper().__init__()\n",
    "\t\tself.ln = nn.LayerNorm(emb_dim)\n",
    "\t\tself.logits_head = nn.Linear(emb_dim, vocab_size)\n",
    "\t\n",
    "\tdef forward(self, x: Tensor):\n",
    "\t\tx = self.ln(x)\n",
    "\t\tx = self.logits_head(x)\n",
    "\t\treturn x"
   ]
  },
  {
   "cell_type": "code",
   "execution_count": 65,
   "metadata": {},
   "outputs": [
    {
     "name": "stderr",
     "output_type": "stream",
     "text": [
      "loss: 0.331: : 11049it [00:42, 261.28it/s]                        \n"
     ]
    },
    {
     "ename": "KeyboardInterrupt",
     "evalue": "",
     "output_type": "error",
     "traceback": [
      "\u001b[1;31m---------------------------------------------------------------------------\u001b[0m",
      "\u001b[1;31mKeyboardInterrupt\u001b[0m                         Traceback (most recent call last)",
      "Cell \u001b[1;32mIn[65], line 29\u001b[0m\n\u001b[0;32m     27\u001b[0m x_mask \u001b[39m=\u001b[39m torch\u001b[39m.\u001b[39mones(block_size)\u001b[39m.\u001b[39mcuda()\n\u001b[0;32m     28\u001b[0m y \u001b[39m=\u001b[39m y\u001b[39m.\u001b[39munsqueeze(\u001b[39m-\u001b[39m\u001b[39m1\u001b[39m)\u001b[39m.\u001b[39mcuda()\n\u001b[1;32m---> 29\u001b[0m pred \u001b[39m=\u001b[39m mha(x, x_mask)\n\u001b[0;32m     30\u001b[0m loss \u001b[39m=\u001b[39m F\u001b[39m.\u001b[39mmse_loss(pred, y)\n\u001b[0;32m     31\u001b[0m loss\u001b[39m.\u001b[39mbackward()\n",
      "File \u001b[1;32mc:\\Users\\Chen Zerui\\AppData\\Local\\Programs\\Python\\Python310\\lib\\site-packages\\torch\\nn\\modules\\module.py:1194\u001b[0m, in \u001b[0;36mModule._call_impl\u001b[1;34m(self, *input, **kwargs)\u001b[0m\n\u001b[0;32m   1190\u001b[0m \u001b[39m# If we don't have any hooks, we want to skip the rest of the logic in\u001b[39;00m\n\u001b[0;32m   1191\u001b[0m \u001b[39m# this function, and just call forward.\u001b[39;00m\n\u001b[0;32m   1192\u001b[0m \u001b[39mif\u001b[39;00m \u001b[39mnot\u001b[39;00m (\u001b[39mself\u001b[39m\u001b[39m.\u001b[39m_backward_hooks \u001b[39mor\u001b[39;00m \u001b[39mself\u001b[39m\u001b[39m.\u001b[39m_forward_hooks \u001b[39mor\u001b[39;00m \u001b[39mself\u001b[39m\u001b[39m.\u001b[39m_forward_pre_hooks \u001b[39mor\u001b[39;00m _global_backward_hooks\n\u001b[0;32m   1193\u001b[0m         \u001b[39mor\u001b[39;00m _global_forward_hooks \u001b[39mor\u001b[39;00m _global_forward_pre_hooks):\n\u001b[1;32m-> 1194\u001b[0m     \u001b[39mreturn\u001b[39;00m forward_call(\u001b[39m*\u001b[39m\u001b[39minput\u001b[39m, \u001b[39m*\u001b[39m\u001b[39m*\u001b[39mkwargs)\n\u001b[0;32m   1195\u001b[0m \u001b[39m# Do not call functions when jit is used\u001b[39;00m\n\u001b[0;32m   1196\u001b[0m full_backward_hooks, non_full_backward_hooks \u001b[39m=\u001b[39m [], []\n",
      "Cell \u001b[1;32mIn[31], line 49\u001b[0m, in \u001b[0;36mMultiHeadSelfAttention.forward\u001b[1;34m(self, x, mask, return_attentions)\u001b[0m\n\u001b[0;32m     47\u001b[0m v \u001b[39m=\u001b[39m v\u001b[39m.\u001b[39mview(B, T, \u001b[39mself\u001b[39m\u001b[39m.\u001b[39mn_heads, C \u001b[39m/\u001b[39m\u001b[39m/\u001b[39m \u001b[39mself\u001b[39m\u001b[39m.\u001b[39mn_heads)\u001b[39m.\u001b[39mtranspose(\u001b[39m1\u001b[39m, \u001b[39m2\u001b[39m)\n\u001b[0;32m     48\u001b[0m \u001b[39m# compute attention\u001b[39;00m\n\u001b[1;32m---> 49\u001b[0m att_weights \u001b[39m=\u001b[39m (q \u001b[39m@\u001b[39m k\u001b[39m.\u001b[39mtranspose(\u001b[39m-\u001b[39m\u001b[39m2\u001b[39m, \u001b[39m-\u001b[39m\u001b[39m1\u001b[39m)) \u001b[39m/\u001b[39m \u001b[39mself\u001b[39;49m\u001b[39m.\u001b[39;49mscale\n\u001b[0;32m     50\u001b[0m mask \u001b[39m=\u001b[39m mask\u001b[39m.\u001b[39munsqueeze(\u001b[39m1\u001b[39m) \u001b[39m# apply mask over all heads\u001b[39;00m\n\u001b[0;32m     51\u001b[0m \u001b[39mif\u001b[39;00m \u001b[39mself\u001b[39m\u001b[39m.\u001b[39mis_causal:\n",
      "File \u001b[1;32mc:\\Users\\Chen Zerui\\AppData\\Local\\Programs\\Python\\Python310\\lib\\site-packages\\torch\\nn\\modules\\module.py:1256\u001b[0m, in \u001b[0;36mModule.__getattr__\u001b[1;34m(self, name)\u001b[0m\n\u001b[0;32m   1253\u001b[0m     \u001b[39mif\u001b[39;00m \u001b[39m'\u001b[39m\u001b[39m_is_full_backward_hook\u001b[39m\u001b[39m'\u001b[39m \u001b[39mnot\u001b[39;00m \u001b[39min\u001b[39;00m \u001b[39mself\u001b[39m\u001b[39m.\u001b[39m\u001b[39m__dict__\u001b[39m:\n\u001b[0;32m   1254\u001b[0m         \u001b[39mself\u001b[39m\u001b[39m.\u001b[39m_is_full_backward_hook \u001b[39m=\u001b[39m \u001b[39mNone\u001b[39;00m\n\u001b[1;32m-> 1256\u001b[0m \u001b[39mdef\u001b[39;00m \u001b[39m__getattr__\u001b[39m(\u001b[39mself\u001b[39m, name: \u001b[39mstr\u001b[39m) \u001b[39m-\u001b[39m\u001b[39m>\u001b[39m Union[Tensor, \u001b[39m'\u001b[39m\u001b[39mModule\u001b[39m\u001b[39m'\u001b[39m]:\n\u001b[0;32m   1257\u001b[0m     \u001b[39mif\u001b[39;00m \u001b[39m'\u001b[39m\u001b[39m_parameters\u001b[39m\u001b[39m'\u001b[39m \u001b[39min\u001b[39;00m \u001b[39mself\u001b[39m\u001b[39m.\u001b[39m\u001b[39m__dict__\u001b[39m:\n\u001b[0;32m   1258\u001b[0m         _parameters \u001b[39m=\u001b[39m \u001b[39mself\u001b[39m\u001b[39m.\u001b[39m\u001b[39m__dict__\u001b[39m[\u001b[39m'\u001b[39m\u001b[39m_parameters\u001b[39m\u001b[39m'\u001b[39m]\n",
      "\u001b[1;31mKeyboardInterrupt\u001b[0m: "
     ]
    }
   ],
   "source": [
    "from tqdm import tqdm\n",
    "\n",
    "# train a single multi-head attention layer on the reversion dataset, using mse loss and adamw optimizer\n",
    "n_steps = 10000\n",
    "batch_size = 128\n",
    "block_size = 32\n",
    "n_heads = 1\n",
    "emb_dim = 1\n",
    "lr = 1e-2\n",
    "\n",
    "mha = MultiHeadSelfAttention(n_heads, emb_dim, False, block_size, False).cuda()\n",
    "\n",
    "# init ds & dl\n",
    "ds = ReversionDataset(block_size)\n",
    "dl = torch.utils.data.DataLoader(ds, batch_size=batch_size, shuffle=False)\n",
    "\n",
    "# init optim\n",
    "optimizer = torch.optim.AdamW(mha.parameters(), lr=lr)\n",
    "\n",
    "# training loop, using tqdm and showing loss at every step\n",
    "pbar = tqdm(dl, total=n_steps)\n",
    "i = 0\n",
    "for x, y in pbar:\n",
    "\tif i > n_steps:\n",
    "\t\tbreak\n",
    "\tx = x.unsqueeze(-1).cuda()\n",
    "\tx_mask = torch.ones(block_size).cuda()\n",
    "\ty = y.unsqueeze(-1).cuda()\n",
    "\tpred = mha(x, x_mask)\n",
    "\tloss = F.mse_loss(pred, y)\n",
    "\tloss.backward()\n",
    "\toptimizer.step()\n",
    "\toptimizer.zero_grad()\n",
    "\tpbar.set_description(f'loss: {loss.item():.3f}')"
   ]
  },
  {
   "cell_type": "code",
   "execution_count": 50,
   "metadata": {},
   "outputs": [
    {
     "name": "stderr",
     "output_type": "stream",
     "text": [
      "loss: 8.159: : 13750it [00:31, 439.38it/s]                        \n"
     ]
    },
    {
     "ename": "KeyboardInterrupt",
     "evalue": "",
     "output_type": "error",
     "traceback": [
      "\u001b[1;31m---------------------------------------------------------------------------\u001b[0m",
      "\u001b[1;31mKeyboardInterrupt\u001b[0m                         Traceback (most recent call last)",
      "Cell \u001b[1;32mIn[50], line 29\u001b[0m\n\u001b[0;32m     27\u001b[0m x_mask \u001b[39m=\u001b[39m torch\u001b[39m.\u001b[39mones(block_size)\u001b[39m.\u001b[39mcuda()\n\u001b[0;32m     28\u001b[0m y \u001b[39m=\u001b[39m y\u001b[39m.\u001b[39munsqueeze(\u001b[39m-\u001b[39m\u001b[39m1\u001b[39m)\u001b[39m.\u001b[39mcuda()\n\u001b[1;32m---> 29\u001b[0m pred, atten_weights \u001b[39m=\u001b[39m mha(x, x, x)\n\u001b[0;32m     30\u001b[0m loss \u001b[39m=\u001b[39m F\u001b[39m.\u001b[39mmse_loss(pred, y)\n\u001b[0;32m     31\u001b[0m loss\u001b[39m.\u001b[39mbackward()\n",
      "File \u001b[1;32mc:\\Users\\Chen Zerui\\AppData\\Local\\Programs\\Python\\Python310\\lib\\site-packages\\torch\\nn\\modules\\module.py:1194\u001b[0m, in \u001b[0;36mModule._call_impl\u001b[1;34m(self, *input, **kwargs)\u001b[0m\n\u001b[0;32m   1190\u001b[0m \u001b[39m# If we don't have any hooks, we want to skip the rest of the logic in\u001b[39;00m\n\u001b[0;32m   1191\u001b[0m \u001b[39m# this function, and just call forward.\u001b[39;00m\n\u001b[0;32m   1192\u001b[0m \u001b[39mif\u001b[39;00m \u001b[39mnot\u001b[39;00m (\u001b[39mself\u001b[39m\u001b[39m.\u001b[39m_backward_hooks \u001b[39mor\u001b[39;00m \u001b[39mself\u001b[39m\u001b[39m.\u001b[39m_forward_hooks \u001b[39mor\u001b[39;00m \u001b[39mself\u001b[39m\u001b[39m.\u001b[39m_forward_pre_hooks \u001b[39mor\u001b[39;00m _global_backward_hooks\n\u001b[0;32m   1193\u001b[0m         \u001b[39mor\u001b[39;00m _global_forward_hooks \u001b[39mor\u001b[39;00m _global_forward_pre_hooks):\n\u001b[1;32m-> 1194\u001b[0m     \u001b[39mreturn\u001b[39;00m forward_call(\u001b[39m*\u001b[39m\u001b[39minput\u001b[39m, \u001b[39m*\u001b[39m\u001b[39m*\u001b[39mkwargs)\n\u001b[0;32m   1195\u001b[0m \u001b[39m# Do not call functions when jit is used\u001b[39;00m\n\u001b[0;32m   1196\u001b[0m full_backward_hooks, non_full_backward_hooks \u001b[39m=\u001b[39m [], []\n",
      "File \u001b[1;32mc:\\Users\\Chen Zerui\\AppData\\Local\\Programs\\Python\\Python310\\lib\\site-packages\\torch\\nn\\modules\\activation.py:1148\u001b[0m, in \u001b[0;36mMultiheadAttention.forward\u001b[1;34m(self, query, key, value, key_padding_mask, need_weights, attn_mask, average_attn_weights)\u001b[0m\n\u001b[0;32m   1146\u001b[0m \u001b[39mif\u001b[39;00m key \u001b[39mis\u001b[39;00m value:\n\u001b[0;32m   1147\u001b[0m     \u001b[39mif\u001b[39;00m query \u001b[39mis\u001b[39;00m key:\n\u001b[1;32m-> 1148\u001b[0m         query \u001b[39m=\u001b[39m key \u001b[39m=\u001b[39m value \u001b[39m=\u001b[39m query\u001b[39m.\u001b[39;49mtranspose(\u001b[39m1\u001b[39;49m, \u001b[39m0\u001b[39;49m)\n\u001b[0;32m   1149\u001b[0m     \u001b[39melse\u001b[39;00m:\n\u001b[0;32m   1150\u001b[0m         query, key \u001b[39m=\u001b[39m [x\u001b[39m.\u001b[39mtranspose(\u001b[39m1\u001b[39m, \u001b[39m0\u001b[39m) \u001b[39mfor\u001b[39;00m x \u001b[39min\u001b[39;00m (query, key)]\n",
      "\u001b[1;31mKeyboardInterrupt\u001b[0m: "
     ]
    }
   ],
   "source": [
    "from tqdm import tqdm\n",
    "\n",
    "# train a single multi-head attention layer on the reversion dataset, using mse loss and adamw optimizer\n",
    "n_steps = 10000\n",
    "batch_size = 128\n",
    "block_size = 128\n",
    "n_heads = 1\n",
    "emb_dim = 1\n",
    "lr = 1e-2\n",
    "\n",
    "mha = torch.nn.MultiheadAttention(emb_dim, n_heads, dropout=0.0, bias=False, batch_first=True).cuda()\n",
    "\n",
    "# init ds & dl\n",
    "ds = ReversionDataset(block_size)\n",
    "dl = torch.utils.data.DataLoader(ds, batch_size=batch_size, shuffle=False)\n",
    "\n",
    "# init optim\n",
    "optimizer = torch.optim.AdamW(mha.parameters(), lr=lr)\n",
    "\n",
    "# training loop, using tqdm and showing loss at every step\n",
    "pbar = tqdm(dl, total=n_steps)\n",
    "i = 0\n",
    "for x, y in pbar:\n",
    "\tif i > n_steps:\n",
    "\t\tbreak\n",
    "\tx = x.unsqueeze(-1).cuda()\n",
    "\tx_mask = torch.ones(block_size).cuda()\n",
    "\ty = y.unsqueeze(-1).cuda()\n",
    "\tpred, atten_weights = mha(x, x, x)\n",
    "\tloss = F.mse_loss(pred, y)\n",
    "\tloss.backward()\n",
    "\toptimizer.step()\n",
    "\toptimizer.zero_grad()\n",
    "\tpbar.set_description(f'loss: {loss.item():.3f}')"
   ]
  },
  {
   "cell_type": "code",
   "execution_count": 67,
   "metadata": {},
   "outputs": [
    {
     "name": "stdout",
     "output_type": "stream",
     "text": [
      "x\t -0.6607863 -0.7366808 0.6102782 -0.024440741 0.34208342 -0.26214957 0.0769597 0.95468456 0.68525946 -0.39543304 0.19278158 0.49334908 -0.47125027 -0.7380721 0.38035497 -0.5687581\n",
      "y\t -0.5687581 0.38035497 -0.7380721 -0.47125027 0.49334908 0.19278158 -0.39543304 0.68525946 0.95468456 0.0769597 -0.26214957 0.34208342 -0.024440741 0.6102782 -0.7366808 -0.6607863\n",
      "y_pred\t 0.0059240647 0.0074955337 -0.020324573 -0.0072353296 -0.014798902 -0.002323348 -0.009329136 -0.027408224 -0.02186798 0.00043283403 -0.011719506 -0.017916426 0.0020012744 0.0075243376 -0.015587892 0.0040190667\n",
      "v\t -0.6717513 -0.74890524 0.6204051 -0.02484631 0.34775993 -0.26649967 0.078236766 0.9705265 0.6966306 -0.40199482 0.1959806 0.50153565 -0.47907016 -0.7503196 0.38666657 -0.578196\n"
     ]
    }
   ],
   "source": [
    "# test the mha layer on the fibonacci dataset\n",
    "ds = ReversionDataset(16)\n",
    "x, y = ds[0]\n",
    "x = x.unsqueeze(0).unsqueeze(-1).cuda()\n",
    "x_mask = torch.ones(x.shape[1], dtype=torch.long).cuda()\n",
    "y_pred, attn, v = mha(x, x_mask, True)\n",
    "print('x\\t', *x.view(16).cpu().numpy())\n",
    "print('y\\t', *y.view(16).numpy())\n",
    "print('y_pred\\t', *y_pred.detach().view(16).cpu().numpy())\n",
    "print('v\\t', *v.detach().view(16).cpu().numpy())"
   ]
  },
  {
   "cell_type": "code",
   "execution_count": 69,
   "metadata": {},
   "outputs": [
    {
     "data": {
      "text/plain": [
       "<Axes: >"
      ]
     },
     "execution_count": 69,
     "metadata": {},
     "output_type": "execute_result"
    },
    {
     "data": {
      "image/png": "[encoded data removed]",
      "text/plain": [
       "<Figure size 640x480 with 2 Axes>"
      ]
     },
     "metadata": {},
     "output_type": "display_data"
    }
   ],
   "source": [
    "# plot the attention weights as heatmap, using seaborn\n",
    "import seaborn as sns\n",
    "import matplotlib.pyplot as plt\n",
    "\n",
    "sns.heatmap(attn[0, 0].detach().cpu().numpy(), cmap='Blues')"
   ]
  },
  {
   "cell_type": "code",
   "execution_count": 36,
   "metadata": {},
   "outputs": [
    {
     "name": "stderr",
     "output_type": "stream",
     "text": [
      "loss: 3.372:  47%|████▋     | 4707/10000 [00:14<00:16, 329.86it/s]    \n"
     ]
    },
    {
     "ename": "KeyboardInterrupt",
     "evalue": "",
     "output_type": "error",
     "traceback": [
      "\u001b[1;31m---------------------------------------------------------------------------\u001b[0m",
      "\u001b[1;31mKeyboardInterrupt\u001b[0m                         Traceback (most recent call last)",
      "Cell \u001b[1;32mIn[36], line 14\u001b[0m\n\u001b[0;32m     12\u001b[0m pbar \u001b[39m=\u001b[39m tqdm(dl, total\u001b[39m=\u001b[39mn_steps)\n\u001b[0;32m     13\u001b[0m i \u001b[39m=\u001b[39m \u001b[39m0\u001b[39m\n\u001b[1;32m---> 14\u001b[0m \u001b[39mfor\u001b[39;00m x, y \u001b[39min\u001b[39;00m pbar:\n\u001b[0;32m     15\u001b[0m \t\u001b[39mif\u001b[39;00m i \u001b[39m>\u001b[39m n_steps:\n\u001b[0;32m     16\u001b[0m \t\t\u001b[39mbreak\u001b[39;00m\n",
      "File \u001b[1;32mc:\\Users\\Chen Zerui\\AppData\\Local\\Programs\\Python\\Python310\\lib\\site-packages\\tqdm\\std.py:1178\u001b[0m, in \u001b[0;36mtqdm.__iter__\u001b[1;34m(self)\u001b[0m\n\u001b[0;32m   1175\u001b[0m time \u001b[39m=\u001b[39m \u001b[39mself\u001b[39m\u001b[39m.\u001b[39m_time\n\u001b[0;32m   1177\u001b[0m \u001b[39mtry\u001b[39;00m:\n\u001b[1;32m-> 1178\u001b[0m     \u001b[39mfor\u001b[39;00m obj \u001b[39min\u001b[39;00m iterable:\n\u001b[0;32m   1179\u001b[0m         \u001b[39myield\u001b[39;00m obj\n\u001b[0;32m   1180\u001b[0m         \u001b[39m# Update and possibly print the progressbar.\u001b[39;00m\n\u001b[0;32m   1181\u001b[0m         \u001b[39m# Note: does not call self.update(1) for speed optimisation.\u001b[39;00m\n",
      "File \u001b[1;32mc:\\Users\\Chen Zerui\\AppData\\Local\\Programs\\Python\\Python310\\lib\\site-packages\\torch\\utils\\data\\dataloader.py:628\u001b[0m, in \u001b[0;36m_BaseDataLoaderIter.__next__\u001b[1;34m(self)\u001b[0m\n\u001b[0;32m    625\u001b[0m \u001b[39mif\u001b[39;00m \u001b[39mself\u001b[39m\u001b[39m.\u001b[39m_sampler_iter \u001b[39mis\u001b[39;00m \u001b[39mNone\u001b[39;00m:\n\u001b[0;32m    626\u001b[0m     \u001b[39m# TODO(https://github.com/pytorch/pytorch/issues/76750)\u001b[39;00m\n\u001b[0;32m    627\u001b[0m     \u001b[39mself\u001b[39m\u001b[39m.\u001b[39m_reset()  \u001b[39m# type: ignore[call-arg]\u001b[39;00m\n\u001b[1;32m--> 628\u001b[0m data \u001b[39m=\u001b[39m \u001b[39mself\u001b[39;49m\u001b[39m.\u001b[39;49m_next_data()\n\u001b[0;32m    629\u001b[0m \u001b[39mself\u001b[39m\u001b[39m.\u001b[39m_num_yielded \u001b[39m+\u001b[39m\u001b[39m=\u001b[39m \u001b[39m1\u001b[39m\n\u001b[0;32m    630\u001b[0m \u001b[39mif\u001b[39;00m \u001b[39mself\u001b[39m\u001b[39m.\u001b[39m_dataset_kind \u001b[39m==\u001b[39m _DatasetKind\u001b[39m.\u001b[39mIterable \u001b[39mand\u001b[39;00m \\\n\u001b[0;32m    631\u001b[0m         \u001b[39mself\u001b[39m\u001b[39m.\u001b[39m_IterableDataset_len_called \u001b[39mis\u001b[39;00m \u001b[39mnot\u001b[39;00m \u001b[39mNone\u001b[39;00m \u001b[39mand\u001b[39;00m \\\n\u001b[0;32m    632\u001b[0m         \u001b[39mself\u001b[39m\u001b[39m.\u001b[39m_num_yielded \u001b[39m>\u001b[39m \u001b[39mself\u001b[39m\u001b[39m.\u001b[39m_IterableDataset_len_called:\n",
      "File \u001b[1;32mc:\\Users\\Chen Zerui\\AppData\\Local\\Programs\\Python\\Python310\\lib\\site-packages\\torch\\utils\\data\\dataloader.py:671\u001b[0m, in \u001b[0;36m_SingleProcessDataLoaderIter._next_data\u001b[1;34m(self)\u001b[0m\n\u001b[0;32m    669\u001b[0m \u001b[39mdef\u001b[39;00m \u001b[39m_next_data\u001b[39m(\u001b[39mself\u001b[39m):\n\u001b[0;32m    670\u001b[0m     index \u001b[39m=\u001b[39m \u001b[39mself\u001b[39m\u001b[39m.\u001b[39m_next_index()  \u001b[39m# may raise StopIteration\u001b[39;00m\n\u001b[1;32m--> 671\u001b[0m     data \u001b[39m=\u001b[39m \u001b[39mself\u001b[39;49m\u001b[39m.\u001b[39;49m_dataset_fetcher\u001b[39m.\u001b[39;49mfetch(index)  \u001b[39m# may raise StopIteration\u001b[39;00m\n\u001b[0;32m    672\u001b[0m     \u001b[39mif\u001b[39;00m \u001b[39mself\u001b[39m\u001b[39m.\u001b[39m_pin_memory:\n\u001b[0;32m    673\u001b[0m         data \u001b[39m=\u001b[39m _utils\u001b[39m.\u001b[39mpin_memory\u001b[39m.\u001b[39mpin_memory(data, \u001b[39mself\u001b[39m\u001b[39m.\u001b[39m_pin_memory_device)\n",
      "File \u001b[1;32mc:\\Users\\Chen Zerui\\AppData\\Local\\Programs\\Python\\Python310\\lib\\site-packages\\torch\\utils\\data\\_utils\\fetch.py:58\u001b[0m, in \u001b[0;36m_MapDatasetFetcher.fetch\u001b[1;34m(self, possibly_batched_index)\u001b[0m\n\u001b[0;32m     56\u001b[0m         data \u001b[39m=\u001b[39m \u001b[39mself\u001b[39m\u001b[39m.\u001b[39mdataset\u001b[39m.\u001b[39m__getitems__(possibly_batched_index)\n\u001b[0;32m     57\u001b[0m     \u001b[39melse\u001b[39;00m:\n\u001b[1;32m---> 58\u001b[0m         data \u001b[39m=\u001b[39m [\u001b[39mself\u001b[39m\u001b[39m.\u001b[39mdataset[idx] \u001b[39mfor\u001b[39;00m idx \u001b[39min\u001b[39;00m possibly_batched_index]\n\u001b[0;32m     59\u001b[0m \u001b[39melse\u001b[39;00m:\n\u001b[0;32m     60\u001b[0m     data \u001b[39m=\u001b[39m \u001b[39mself\u001b[39m\u001b[39m.\u001b[39mdataset[possibly_batched_index]\n",
      "File \u001b[1;32mc:\\Users\\Chen Zerui\\AppData\\Local\\Programs\\Python\\Python310\\lib\\site-packages\\torch\\utils\\data\\_utils\\fetch.py:58\u001b[0m, in \u001b[0;36m<listcomp>\u001b[1;34m(.0)\u001b[0m\n\u001b[0;32m     56\u001b[0m         data \u001b[39m=\u001b[39m \u001b[39mself\u001b[39m\u001b[39m.\u001b[39mdataset\u001b[39m.\u001b[39m__getitems__(possibly_batched_index)\n\u001b[0;32m     57\u001b[0m     \u001b[39melse\u001b[39;00m:\n\u001b[1;32m---> 58\u001b[0m         data \u001b[39m=\u001b[39m [\u001b[39mself\u001b[39;49m\u001b[39m.\u001b[39;49mdataset[idx] \u001b[39mfor\u001b[39;00m idx \u001b[39min\u001b[39;00m possibly_batched_index]\n\u001b[0;32m     59\u001b[0m \u001b[39melse\u001b[39;00m:\n\u001b[0;32m     60\u001b[0m     data \u001b[39m=\u001b[39m \u001b[39mself\u001b[39m\u001b[39m.\u001b[39mdataset[possibly_batched_index]\n",
      "Cell \u001b[1;32mIn[30], line 17\u001b[0m, in \u001b[0;36mFibonacciDataset.__getitem__\u001b[1;34m(self, idx)\u001b[0m\n\u001b[0;32m     15\u001b[0m \tfib\u001b[39m.\u001b[39mappend(fib[\u001b[39m-\u001b[39m\u001b[39m1\u001b[39m] \u001b[39m+\u001b[39m fib[\u001b[39m-\u001b[39m\u001b[39m2\u001b[39m])\n\u001b[0;32m     16\u001b[0m x \u001b[39m=\u001b[39m torch\u001b[39m.\u001b[39mtensor(fib[:\u001b[39m-\u001b[39m\u001b[39m1\u001b[39m], dtype\u001b[39m=\u001b[39mtorch\u001b[39m.\u001b[39mfloat32)\n\u001b[1;32m---> 17\u001b[0m y \u001b[39m=\u001b[39m torch\u001b[39m.\u001b[39;49mtensor(fib[\u001b[39m1\u001b[39;49m:], dtype\u001b[39m=\u001b[39;49mtorch\u001b[39m.\u001b[39;49mfloat32)\n\u001b[0;32m     18\u001b[0m \u001b[39mreturn\u001b[39;00m x, y\n",
      "\u001b[1;31mKeyboardInterrupt\u001b[0m: "
     ]
    }
   ],
   "source": [
    "from tqdm import tqdm\n",
    "\n",
    "n_steps = 10000\n",
    "batch_size = 128\n",
    "mha = MultiHeadSelfAttention(1, 1, False, 16, True).cuda()\n",
    "\n",
    "# train a single mha layer on the fibonacci dataset for n_steps, using mse loss and adamw optimizer\n",
    "ds = FibonacciDataset(16)\n",
    "dl = torch.utils.data.DataLoader(ds, batch_size=batch_size, shuffle=False)\n",
    "optimizer = torch.optim.AdamW(mha.parameters(), lr=5e-3)\n",
    "\n",
    "pbar = tqdm(dl, total=n_steps)\n",
    "i = 0\n",
    "for x, y in pbar:\n",
    "\tif i > n_steps:\n",
    "\t\tbreak\n",
    "\tx = x.unsqueeze(-1).cuda()\n",
    "\tx_mask = subsequent_mask(x.shape[1]).cuda()\n",
    "\ty = y.unsqueeze(-1).cuda()\n",
    "\tpred = mha(x, x_mask)\n",
    "\tloss = F.mse_loss(pred, y)\n",
    "\tloss.backward()\n",
    "\toptimizer.step()\n",
    "\toptimizer.zero_grad()\n",
    "\tpbar.set_description(f'loss: {loss.item():.3f}')\n",
    "\ti += 1"
   ]
  },
  {
   "cell_type": "code",
   "execution_count": 35,
   "metadata": {},
   "outputs": [
    {
     "data": {
      "text/plain": [
       "tensor([[-0.3462],\n",
       "        [-0.3910],\n",
       "        [ 1.6179]])"
      ]
     },
     "execution_count": 35,
     "metadata": {},
     "output_type": "execute_result"
    }
   ],
   "source": [
    "mha.qkv_projection.weight.detach().cpu()"
   ]
  },
  {
   "cell_type": "code",
   "execution_count": null,
   "metadata": {},
   "outputs": [],
   "source": [
    "from dataset import TranslationDataset"
   ]
  },
  {
   "cell_type": "code",
   "execution_count": null,
   "metadata": {},
   "outputs": [],
   "source": [
    "ds = TranslationDataset('data/multi30k/train.en', 'data/multi30k/train.de', 'data/multi30k/m_en_de.model', 128)"
   ]
  },
  {
   "cell_type": "code",
   "execution_count": null,
   "metadata": {},
   "outputs": [],
   "source": [
    "ds[1]"
   ]
  },
  {
   "cell_type": "code",
   "execution_count": null,
   "metadata": {},
   "outputs": [],
   "source": []
  }
 ],
 "metadata": {
  "kernelspec": {
   "display_name": "Python 3",
   "language": "python",
   "name": "python3"
  },
  "language_info": {
   "codemirror_mode": {
    "name": "ipython",
    "version": 3
   },
   "file_extension": ".py",
   "mimetype": "text/x-python",
   "name": "python",
   "nbconvert_exporter": "python",
   "pygments_lexer": "ipython3",
   "version": "3.10.0"
  },
  "orig_nbformat": 4,
  "vscode": {
   "interpreter": {
    "hash": "916dbcbb3f70747c44a77c7bcd40155683ae19c65e1c03b4aa3499c5328201f1"
   }
  }
 },
 "nbformat": 4,
 "nbformat_minor": 2
}
