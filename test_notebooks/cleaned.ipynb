{
 "cells": [
  {
   "cell_type": "code",
   "execution_count": 1,
   "metadata": {},
   "outputs": [],
   "source": [
    "import torch\n",
    "from torchtext.data.utils import get_tokenizer\n",
    "from torchtext.vocab import build_vocab_from_iterator\n",
    "from torchtext.datasets import multi30k, Multi30k\n",
    "from typing import Iterable, List\n",
    "\n",
    "torch.manual_seed(0)\n",
    "torch.set_float32_matmul_precision('high')\n",
    "\n",
    "DEVICE = torch.device('cuda:0')\n",
    "\n",
    "# We need to modify the URLs for the dataset since the links to the original dataset are broken\n",
    "# Refer to https://github.com/pytorch/text/issues/1756#issuecomment-1163664163 for more info\n",
    "multi30k.URL[\"train\"] = \"https://raw.githubusercontent.com/neychev/small_DL_repo/master/datasets/Multi30k/training.tar.gz\"\n",
    "multi30k.URL[\"valid\"] = \"https://raw.githubusercontent.com/neychev/small_DL_repo/master/datasets/Multi30k/validation.tar.gz\"\n",
    "\n",
    "SRC_LANGUAGE = 'de'\n",
    "TGT_LANGUAGE = 'en'\n",
    "\n",
    "# Place-holders\n",
    "token_transform = {}\n",
    "vocab_transform = {}\n",
    "\n",
    "\n",
    "# Create source and target language tokenizer. Make sure to install the dependencies.\n",
    "# pip install -U torchdata\n",
    "# pip install -U spacy\n",
    "# python -m spacy download en_core_web_sm\n",
    "# python -m spacy download de_core_news_sm\n",
    "token_transform[SRC_LANGUAGE] = get_tokenizer('spacy', language='de_core_news_sm')\n",
    "token_transform[TGT_LANGUAGE] = get_tokenizer('spacy', language='en_core_web_sm')\n",
    "\n",
    "\n",
    "# helper function to yield list of tokens\n",
    "def yield_tokens(data_iter: Iterable, language: str) -> List[str]:\n",
    "    language_index = {SRC_LANGUAGE: 0, TGT_LANGUAGE: 1}\n",
    "\n",
    "    for data_sample in data_iter:\n",
    "        yield token_transform[language](data_sample[language_index[language]])\n",
    "\n",
    "# Define special symbols and indices\n",
    "UNK_IDX, PAD_IDX, BOS_IDX, EOS_IDX = 0, 1, 2, 3\n",
    "# Make sure the tokens are in order of their indices to properly insert them in vocab\n",
    "special_symbols = ['<unk>', '<pad>', '<bos>', '<eos>']\n",
    "\n",
    "for ln in [SRC_LANGUAGE, TGT_LANGUAGE]:\n",
    "    # Training data Iterator\n",
    "    train_iter = Multi30k(split='train', language_pair=(SRC_LANGUAGE, TGT_LANGUAGE))\n",
    "    # Create torchtext's Vocab object\n",
    "    vocab_transform[ln] = build_vocab_from_iterator(yield_tokens(train_iter, ln),\n",
    "                                                    min_freq=1,\n",
    "                                                    specials=special_symbols,\n",
    "                                                    special_first=True)\n",
    "\n",
    "# Set UNK_IDX as the default index. This index is returned when the token is not found.\n",
    "# If not set, it throws RuntimeError when the queried token is not found in the Vocabulary.\n",
    "for ln in [SRC_LANGUAGE, TGT_LANGUAGE]:\n",
    "  vocab_transform[ln].set_default_index(UNK_IDX)\n",
    "\n",
    "def make_tok_masks(src, tgt):\n",
    "    src_mask = (src != PAD_IDX)\n",
    "    tgt_mask = (tgt != PAD_IDX)\n",
    "    return src_mask, tgt_mask"
   ]
  },
  {
   "cell_type": "code",
   "execution_count": 3,
   "metadata": {},
   "outputs": [],
   "source": [
    "ds = list(Multi30k(split='train', language_pair=(SRC_LANGUAGE, TGT_LANGUAGE)))"
   ]
  },
  {
   "cell_type": "code",
   "execution_count": 5,
   "metadata": {},
   "outputs": [
    {
     "data": {
      "text/plain": [
       "29001"
      ]
     },
     "execution_count": 5,
     "metadata": {},
     "output_type": "execute_result"
    }
   ],
   "source": [
    "len(ds)"
   ]
  },
  {
   "cell_type": "code",
   "execution_count": 2,
   "metadata": {},
   "outputs": [],
   "source": [
    "def generate_square_subsequent_mask(sz):\n",
    "    mask = (torch.triu(torch.ones((sz, sz), device=DEVICE)) == 1).transpose(0, 1)\n",
    "    mask = mask.float().masked_fill(mask == 0, float('-inf')).masked_fill(mask == 1, float(0.0))\n",
    "    return mask\n",
    "\n",
    "def create_mask(src, tgt):\n",
    "    src_seq_len = src.shape[1]\n",
    "    tgt_seq_len = tgt.shape[1]\n",
    "\n",
    "    tgt_mask = generate_square_subsequent_mask(tgt_seq_len)\n",
    "    src_mask = torch.zeros((src_seq_len, src_seq_len), dtype=torch.bool)\n",
    "\n",
    "    src_padding_mask = (src == PAD_IDX)\n",
    "    tgt_padding_mask = (tgt == PAD_IDX)\n",
    "    return src_mask.to(DEVICE), tgt_mask.to(DEVICE), src_padding_mask.to(DEVICE), tgt_padding_mask.to(DEVICE)"
   ]
  },
  {
   "attachments": {},
   "cell_type": "markdown",
   "metadata": {},
   "source": [
    "# Model"
   ]
  },
  {
   "cell_type": "code",
   "execution_count": 3,
   "metadata": {},
   "outputs": [],
   "source": [
    "import torch.nn as nn\n",
    "from torch import Tensor\n",
    "\n",
    "class InputEmbeddings(nn.Module):\n",
    "\t''' Apply learnable token and position embeddings to input tokens. '''\n",
    "\n",
    "\tdef __init__(self, vocab_size: int, emb_size: int, maxlen: int = 5000):\n",
    "\t\tsuper().__init__()\n",
    "\t\tself.token_embedding_table = nn.Embedding(vocab_size, emb_size)\n",
    "\t\tself.position_embedding_table = nn.Embedding(maxlen, emb_size)\n",
    "\t\tself.register_buffer('pos_emb_index', torch.arange(maxlen))\n",
    "\t\n",
    "\tdef forward(self, x: Tensor):\n",
    "\t\tB, T = x.shape\n",
    "\t\ttok_embd = self.token_embedding_table(x)\n",
    "\t\tpos_embd = self.position_embedding_table(self.pos_emb_index[:T])\n",
    "\t\treturn tok_embd + pos_embd\n",
    "\n",
    "# Seq2Seq Network\n",
    "class Seq2SeqTransformer(nn.Module):\n",
    "    def __init__(self,\n",
    "                 num_encoder_layers: int,\n",
    "                 num_decoder_layers: int,\n",
    "                 emb_size: int,\n",
    "                 nhead: int,\n",
    "                 src_vocab_size: int,\n",
    "                 tgt_vocab_size: int,\n",
    "                 dim_feedforward: int = 512,\n",
    "                 dropout: float = 0.1):\n",
    "        super(Seq2SeqTransformer, self).__init__()\n",
    "        self.transformer = nn.Transformer(d_model=emb_size,\n",
    "                                       nhead=nhead,\n",
    "                                       num_encoder_layers=num_encoder_layers,\n",
    "                                       num_decoder_layers=num_decoder_layers,\n",
    "                                       dim_feedforward=dim_feedforward,\n",
    "                                       dropout=dropout,\n",
    "                                       batch_first=True)\n",
    "        self.generator = nn.Linear(emb_size, tgt_vocab_size)\n",
    "        self.src_tok_emb = InputEmbeddings(src_vocab_size, emb_size)\n",
    "        self.tgt_tok_emb = InputEmbeddings(tgt_vocab_size, emb_size)\n",
    "\n",
    "    def forward(self,\n",
    "                src: Tensor,\n",
    "                trg: Tensor,\n",
    "                src_mask: Tensor,\n",
    "                tgt_mask: Tensor,\n",
    "                src_padding_mask: Tensor,\n",
    "                tgt_padding_mask: Tensor,\n",
    "                memory_key_padding_mask: Tensor):\n",
    "        src_emb = (self.src_tok_emb(src))\n",
    "        tgt_emb = (self.tgt_tok_emb(trg))\n",
    "        outs = self.transformer(src_emb, tgt_emb, src_mask, tgt_mask, None,\n",
    "                                src_padding_mask, tgt_padding_mask, memory_key_padding_mask)\n",
    "        return self.generator(outs)\n",
    "\n",
    "    def encode(self, src: Tensor, src_mask: Tensor):\n",
    "        return self.transformer.encoder((\n",
    "                            self.src_tok_emb(src)), src_mask)\n",
    "\n",
    "    def decode(self, tgt: Tensor, memory: Tensor, tgt_mask: Tensor):\n",
    "        return self.transformer.decoder((\n",
    "                          self.tgt_tok_emb(tgt)), memory,\n",
    "                          tgt_mask)"
   ]
  },
  {
   "cell_type": "code",
   "execution_count": 4,
   "metadata": {},
   "outputs": [],
   "source": [
    "from torch.nn.utils.rnn import pad_sequence\n",
    "\n",
    "# helper function to club together sequential operations\n",
    "def sequential_transforms(*transforms):\n",
    "    def func(txt_input):\n",
    "        for transform in transforms:\n",
    "            txt_input = transform(txt_input)\n",
    "        return txt_input\n",
    "    return func\n",
    "\n",
    "# function to add BOS/EOS and create tensor for input sequence indices\n",
    "def tensor_transform(token_ids: List[int]):\n",
    "    return torch.cat((torch.tensor([BOS_IDX]),\n",
    "                      torch.tensor(token_ids),\n",
    "                      torch.tensor([EOS_IDX])))\n",
    "\n",
    "# src and tgt language text transforms to convert raw strings into tensors indices\n",
    "text_transform = {}\n",
    "for ln in [SRC_LANGUAGE, TGT_LANGUAGE]:\n",
    "    text_transform[ln] = sequential_transforms(token_transform[ln], #Tokenization\n",
    "                                               vocab_transform[ln], #Numericalization\n",
    "                                               tensor_transform) # Add BOS/EOS and create tensor\n",
    "\n",
    "\n",
    "# function to collate data samples into batch tensors\n",
    "def collate_fn(batch):\n",
    "    src_batch, tgt_batch = [], []\n",
    "    for src_sample, tgt_sample in batch:\n",
    "        src_batch.append(text_transform[SRC_LANGUAGE](src_sample.rstrip(\"\\n\")))\n",
    "        tgt_batch.append(text_transform[TGT_LANGUAGE](tgt_sample.rstrip(\"\\n\")))\n",
    "\n",
    "    src_batch = pad_sequence(src_batch, padding_value=PAD_IDX, batch_first=True)\n",
    "    tgt_batch = pad_sequence(tgt_batch, padding_value=PAD_IDX, batch_first=True)\n",
    "    return src_batch, tgt_batch"
   ]
  },
  {
   "cell_type": "code",
   "execution_count": 5,
   "metadata": {},
   "outputs": [],
   "source": [
    "SRC_VOCAB_SIZE = len(vocab_transform[SRC_LANGUAGE])\n",
    "TGT_VOCAB_SIZE = len(vocab_transform[TGT_LANGUAGE])\n",
    "\n",
    "EMB_SIZE = 512\n",
    "NHEAD = 8\n",
    "FFN_HID_DIM = 512\n",
    "BATCH_SIZE = 128\n",
    "NUM_ENCODER_LAYERS = 3\n",
    "NUM_DECODER_LAYERS = 3\n",
    "\n",
    "transformer = Seq2SeqTransformer(num_encoder_layers=NUM_ENCODER_LAYERS,\n",
    "                                 num_decoder_layers=NUM_DECODER_LAYERS,\n",
    "                                 emb_size=EMB_SIZE,\n",
    "                                 nhead=NHEAD,\n",
    "                                 src_vocab_size=SRC_VOCAB_SIZE,\n",
    "                                 tgt_vocab_size=TGT_VOCAB_SIZE,\n",
    "                                 dim_feedforward=FFN_HID_DIM,\n",
    "                                 dropout=0.1)\n",
    "\n",
    "transformer = transformer.to(DEVICE)\n",
    "\n",
    "loss_fn = torch.nn.CrossEntropyLoss(ignore_index=PAD_IDX)\n",
    "\n",
    "optimizer = torch.optim.Adam(transformer.parameters(), lr=0.0001, betas=(0.9, 0.98), eps=1e-9)"
   ]
  },
  {
   "cell_type": "code",
   "execution_count": 6,
   "metadata": {},
   "outputs": [],
   "source": [
    "from torch.utils.data import DataLoader\n",
    "\n",
    "def train_epoch(model, optimizer):\n",
    "    model.train()\n",
    "    losses = 0\n",
    "    train_iter = Multi30k(split='train', language_pair=(SRC_LANGUAGE, TGT_LANGUAGE))\n",
    "    train_dataloader = DataLoader(train_iter, batch_size=BATCH_SIZE, collate_fn=collate_fn)\n",
    "\n",
    "    for src, tgt in train_dataloader:\n",
    "        src = src.to(DEVICE)\n",
    "        tgt = tgt.to(DEVICE)\n",
    "\n",
    "        tgt_input = tgt[:, :-1]\n",
    "\n",
    "        src_mask, tgt_mask, src_padding_mask, tgt_padding_mask = create_mask(src, tgt_input)\n",
    "        logits = model(src, tgt_input, src_mask, tgt_mask, src_padding_mask, tgt_padding_mask, src_padding_mask)\n",
    "\n",
    "        optimizer.zero_grad()\n",
    "\n",
    "        tgt_out = tgt[:, 1:]\n",
    "        loss = loss_fn(logits.reshape(-1, logits.shape[-1]), tgt_out.reshape(-1))\n",
    "        loss.backward()\n",
    "\n",
    "        optimizer.step()\n",
    "        losses += loss.item()\n",
    "\n",
    "    return losses / len(list(train_dataloader))\n",
    "\n",
    "\n",
    "def evaluate(model):\n",
    "    model.eval()\n",
    "    losses = 0\n",
    "\n",
    "    val_iter = Multi30k(split='valid', language_pair=(SRC_LANGUAGE, TGT_LANGUAGE))\n",
    "    val_dataloader = DataLoader(val_iter, batch_size=BATCH_SIZE, collate_fn=collate_fn)\n",
    "\n",
    "    for src, tgt in val_dataloader:\n",
    "        src = src.to(DEVICE)\n",
    "        tgt = tgt.to(DEVICE)\n",
    "\n",
    "        tgt_input = tgt[:, :-1]\n",
    "\n",
    "        src_mask, tgt_mask, src_padding_mask, tgt_padding_mask = create_mask(src, tgt_input)\n",
    "        logits = model(src, tgt_input, src_mask, tgt_mask,src_padding_mask, tgt_padding_mask, src_padding_mask)\n",
    "\n",
    "        tgt_out = tgt[:, 1:]\n",
    "        loss = loss_fn(logits.reshape(-1, logits.shape[-1]), tgt_out.reshape(-1))\n",
    "        losses += loss.item()\n",
    "\n",
    "    return losses / len(list(val_dataloader))"
   ]
  },
  {
   "cell_type": "code",
   "execution_count": 7,
   "metadata": {},
   "outputs": [
    {
     "name": "stderr",
     "output_type": "stream",
     "text": [
      "/home/chen/.local/lib/python3.10/site-packages/torch/nn/functional.py:4999: UserWarning: Support for mismatched src_key_padding_mask and src_mask is deprecated. Use same type for both instead.\n",
      "  warnings.warn(\n",
      "/home/chen/.local/lib/python3.10/site-packages/torch/nn/functional.py:4999: UserWarning: Support for mismatched key_padding_mask and attn_mask is deprecated. Use same type for both instead.\n",
      "  warnings.warn(\n",
      "/home/chen/.local/lib/python3.10/site-packages/torch/utils/data/datapipes/iter/combining.py:297: UserWarning: Some child DataPipes are not exhausted when __iter__ is called. We are resetting the buffer and each child DataPipe will read from the start again.\n",
      "  warnings.warn(\"Some child DataPipes are not exhausted when __iter__ is called. We are resetting \"\n"
     ]
    },
    {
     "name": "stdout",
     "output_type": "stream",
     "text": [
      "Epoch: 1, Train loss: 4.989, Val loss: 3.925, Epoch time = 7.483s\n",
      "Epoch: 2, Train loss: 3.670, Val loss: 3.332, Epoch time = 7.121s\n",
      "Epoch: 3, Train loss: 3.209, Val loss: 3.021, Epoch time = 6.936s\n",
      "Epoch: 4, Train loss: 2.908, Val loss: 2.823, Epoch time = 6.943s\n",
      "Epoch: 5, Train loss: 2.684, Val loss: 2.687, Epoch time = 6.916s\n",
      "Epoch: 6, Train loss: 2.501, Val loss: 2.579, Epoch time = 6.908s\n",
      "Epoch: 7, Train loss: 2.348, Val loss: 2.489, Epoch time = 6.966s\n",
      "Epoch: 8, Train loss: 2.213, Val loss: 2.420, Epoch time = 7.054s\n",
      "Epoch: 9, Train loss: 2.093, Val loss: 2.360, Epoch time = 7.066s\n",
      "Epoch: 10, Train loss: 1.983, Val loss: 2.324, Epoch time = 7.095s\n",
      "Epoch: 11, Train loss: 1.884, Val loss: 2.285, Epoch time = 7.120s\n",
      "Epoch: 12, Train loss: 1.785, Val loss: 2.252, Epoch time = 7.149s\n",
      "Epoch: 13, Train loss: 1.700, Val loss: 2.228, Epoch time = 7.048s\n",
      "Epoch: 14, Train loss: 1.615, Val loss: 2.210, Epoch time = 7.041s\n",
      "Epoch: 15, Train loss: 1.534, Val loss: 2.199, Epoch time = 7.347s\n",
      "Epoch: 16, Train loss: 1.459, Val loss: 2.185, Epoch time = 7.332s\n",
      "Epoch: 17, Train loss: 1.389, Val loss: 2.174, Epoch time = 7.369s\n",
      "Epoch: 18, Train loss: 1.323, Val loss: 2.167, Epoch time = 7.290s\n",
      "Epoch: 19, Train loss: 1.258, Val loss: 2.159, Epoch time = 7.256s\n",
      "Epoch: 20, Train loss: 1.197, Val loss: 2.152, Epoch time = 7.165s\n"
     ]
    }
   ],
   "source": [
    "from timeit import default_timer as timer\n",
    "NUM_EPOCHS = 20\n",
    "\n",
    "for epoch in range(1, NUM_EPOCHS+1):\n",
    "    start_time = timer()\n",
    "    train_loss = train_epoch(transformer, optimizer)\n",
    "    end_time = timer()\n",
    "    val_loss = evaluate(transformer)\n",
    "    print((f\"Epoch: {epoch}, Train loss: {train_loss:.3f}, Val loss: {val_loss:.3f}, \"f\"Epoch time = {(end_time - start_time):.3f}s\"))\n"
   ]
  },
  {
   "attachments": {},
   "cell_type": "markdown",
   "metadata": {},
   "source": [
    "# Lightning Training"
   ]
  },
  {
   "attachments": {},
   "cell_type": "markdown",
   "metadata": {},
   "source": [
    "## 1. Using Automatic Optimization"
   ]
  },
  {
   "cell_type": "code",
   "execution_count": 39,
   "metadata": {},
   "outputs": [],
   "source": [
    "import pytorch_lightning as pl\n",
    "\n",
    "class Seq2SeqTransformerLNAuto(pl.LightningModule):\n",
    "      \n",
    "    def __init__(self, transformer: Seq2SeqTransformer):\n",
    "        super().__init__()\n",
    "        self.transformer = transformer\n",
    "        self.criterion = nn.CrossEntropyLoss(ignore_index=PAD_IDX)\n",
    "    \n",
    "    def forward(self, src, tgt, src_mask, tgt_mask, src_padding_mask, tgt_padding_mask, memory_key_padding_mask):\n",
    "        return self.transformer(src, tgt, src_mask, tgt_mask, src_padding_mask, tgt_padding_mask, memory_key_padding_mask)\n",
    "    \n",
    "    def training_step(self, batch, batch_idx: int):\n",
    "        src, tgt = batch\n",
    "        tgt_input = tgt[:, :-1]\n",
    "        src_mask, tgt_mask, src_padding_mask, tgt_padding_mask = create_mask(src, tgt_input)\n",
    "        memory_key_padding_mask = src_padding_mask\n",
    "        y_pred = self(src, tgt_input, src_mask, tgt_mask, src_padding_mask, tgt_padding_mask, memory_key_padding_mask)\n",
    "        y_gt = tgt[:, 1:]\n",
    "        loss = self.criterion(y_pred.view(-1, y_pred.shape[-1]), y_gt.reshape(-1))\n",
    "        self.log('train_loss', loss, prog_bar=True)\n",
    "        return loss\n",
    "\n",
    "    def validation_step(self, batch, batch_idx: int):\n",
    "        src, tgt = batch\n",
    "        tgt_input = tgt[:, :-1]\n",
    "        src_mask, tgt_mask, src_padding_mask, tgt_padding_mask = create_mask(src, tgt_input)\n",
    "        memory_key_padding_mask = src_padding_mask\n",
    "        y_pred = self(src, tgt_input, src_mask, tgt_mask, src_padding_mask, tgt_padding_mask, memory_key_padding_mask)\n",
    "        y_gt = tgt[:, 1:]\n",
    "        loss = self.criterion(y_pred.view(-1, y_pred.shape[-1]), y_gt.reshape(-1))\n",
    "        self.log('val_loss', loss, prog_bar=True)\n",
    "        return loss\n",
    "\n",
    "    def configure_optimizers(self):\n",
    "         return torch.optim.AdamW(transformer.parameters(), lr=0.001)"
   ]
  },
  {
   "cell_type": "code",
   "execution_count": 40,
   "metadata": {},
   "outputs": [
    {
     "name": "stderr",
     "output_type": "stream",
     "text": [
      "GPU available: True (cuda), used: True\n",
      "TPU available: False, using: 0 TPU cores\n",
      "IPU available: False, using: 0 IPUs\n",
      "HPU available: False, using: 0 HPUs\n"
     ]
    }
   ],
   "source": [
    "from torch.utils.data import DataLoader\n",
    "\n",
    "train_iter = Multi30k(split='train', language_pair=(SRC_LANGUAGE, TGT_LANGUAGE))\n",
    "val_iter = Multi30k(split='valid', language_pair=(SRC_LANGUAGE, TGT_LANGUAGE))\n",
    "train_dl = DataLoader(train_iter, batch_size=BATCH_SIZE, collate_fn=collate_fn)\n",
    "val_dl = DataLoader(val_iter, batch_size=BATCH_SIZE, collate_fn=collate_fn)\n",
    "\n",
    "trainer = pl.Trainer(accelerator='gpu', devices=1)"
   ]
  },
  {
   "cell_type": "code",
   "execution_count": null,
   "metadata": {},
   "outputs": [],
   "source": [
    "SRC_VOCAB_SIZE = len(vocab_transform[SRC_LANGUAGE])\n",
    "TGT_VOCAB_SIZE = len(vocab_transform[TGT_LANGUAGE])\n",
    "\n",
    "EMB_SIZE = 512\n",
    "NHEAD = 8\n",
    "FFN_HID_DIM = 512\n",
    "BATCH_SIZE = 128\n",
    "NUM_ENCODER_LAYERS = 3\n",
    "NUM_DECODER_LAYERS = 3\n",
    "\n",
    "transformer = Seq2SeqTransformer(num_encoder_layers=NUM_ENCODER_LAYERS,\n",
    "                                 num_decoder_layers=NUM_DECODER_LAYERS,\n",
    "                                 emb_size=EMB_SIZE,\n",
    "                                 nhead=NHEAD,\n",
    "                                 src_vocab_size=SRC_VOCAB_SIZE,\n",
    "                                 tgt_vocab_size=TGT_VOCAB_SIZE,\n",
    "                                 dim_feedforward=FFN_HID_DIM,\n",
    "                                 dropout=0.1)\n",
    "\n",
    "transformer = Seq2SeqTransformerLNAuto(transformer)"
   ]
  },
  {
   "cell_type": "code",
   "execution_count": null,
   "metadata": {},
   "outputs": [],
   "source": [
    "trainer.fit(transformer, train_dl, val_dl)"
   ]
  },
  {
   "attachments": {},
   "cell_type": "markdown",
   "metadata": {},
   "source": [
    "## My Own Model"
   ]
  },
  {
   "cell_type": "code",
   "execution_count": 24,
   "metadata": {},
   "outputs": [],
   "source": [
    "from dataclasses import dataclass\n",
    "\n",
    "@dataclass\n",
    "class TransformerConfig:\n",
    "    block_size: int\n",
    "    src_vocab_size: int \n",
    "    tgt_vocab_size: int\n",
    "    n_blocks: int \n",
    "    n_heads: int \n",
    "    emb_dim: int \n",
    "    dropout: float\n",
    "    bias: bool \n",
    "    weight_tying: bool\n",
    "    use_grad_ckpt: bool\n",
    "\n",
    "@dataclass\n",
    "class TrainingConfig:\n",
    "    learning_rate: float \n",
    "    autotune_learning_rate: bool \n",
    "    compile_model: bool\n",
    "    shuffle: bool\n",
    "    max_steps: int \n",
    "    batch_size: int\n",
    "    gradient_accum_steps: int \n",
    "    sp_model: str\n",
    "    train_src_file: str\n",
    "    train_tgt_file: str\n",
    "    val_src_file: str\n",
    "    val_tgt_file: str"
   ]
  },
  {
   "cell_type": "code",
   "execution_count": 63,
   "metadata": {},
   "outputs": [],
   "source": [
    "import torch\n",
    "import torch.nn as nn\n",
    "from torch.nn import functional as F\n",
    "from torch.utils.checkpoint import checkpoint\n",
    "from torch import Tensor\n",
    "from typing import *\n",
    "import pytorch_lightning as pl\n",
    "from dataset import TranslationBatch, TranslationDataset\n",
    "import sentencepiece as sp\n",
    "import math\n",
    "\n",
    "GPU = torch.device('cuda')\n",
    "\n",
    "@torch.jit.script\n",
    "def new_gelu(x: Tensor):\n",
    "\t\"\"\"\n",
    "\tImplementation of the GELU activation function currently in Google BERT repo (identical to OpenAI GPT).\n",
    "\tReference: Gaussian Error Linear Units (GELU) paper: https://arxiv.org/abs/1606.08415\n",
    "\t\"\"\"\n",
    "\treturn 0.5 * x * (1.0 + torch.tanh(torch.sqrt(2.0 / torch.pi) * (x + 0.044715 * torch.pow(x, 3.0))))\n",
    "\n",
    "class InputEmbeddings(nn.Module):\n",
    "\t''' Apply learnable token and position embeddings to input tokens. '''\n",
    "\n",
    "\tdef __init__(self, config: TransformerConfig, is_src = True):\n",
    "\t\tsuper().__init__()\n",
    "\t\tvocab_size = config.src_vocab_size if is_src else config.tgt_vocab_size\n",
    "\t\tself.token_embedding_table = nn.Embedding(vocab_size, config.emb_dim)\n",
    "\t\tself.position_embedding_table = nn.Embedding(config.block_size, config.emb_dim)\n",
    "\t\tself.register_buffer('pos_emb_index', torch.arange(config.block_size))\n",
    "\t\n",
    "\tdef forward(self, x: Tensor):\n",
    "\t\tB, T = x.shape\n",
    "\t\ttok_embd = self.token_embedding_table(x)\n",
    "\t\tpos_embd = self.position_embedding_table(self.pos_emb_index[:T])\n",
    "\t\treturn tok_embd + pos_embd\n",
    "\n",
    "class MultiHeadSelfAttention(nn.Module):\n",
    "\n",
    "\t''' Multi-head self attention.\n",
    "\tImplements a somewhat optimized version of the self attention by combining the q, k, v projections.\n",
    "\t\n",
    "\tInputs:\n",
    "\t\t`x`: Tensor<Float>[B, T, C] input tensor.\n",
    "\t\t`tok_mask`: Tensor<Bool>[B, T] per-token mask applied to the `x`, false is masked out, true is preserved - masks both keys and queries.\n",
    "\n",
    "\tOutputs:\n",
    "\t\tTensor<Float>[B, T, C] output tensor.\n",
    "\t'''\n",
    "\n",
    "\tdef __init__(self, config: TransformerConfig, is_causal: bool = False):\n",
    "\t\tsuper().__init__()\n",
    "\t\tself.is_causal = is_causal\n",
    "\t\tself.n_heads = config.n_heads\n",
    "\t\tself.emb_dim = config.emb_dim\n",
    "\t\tself.attn_dropout = nn.Dropout(config.dropout)\n",
    "\t\tself.resid_dropout = nn.Dropout(config.dropout)\n",
    "\t\t# combine q, k, v projections for efficiency\n",
    "\t\tself.qkv_projection = nn.Linear(config.emb_dim, 3 * config.emb_dim, bias=config.bias)\n",
    "\t\t# output projection\n",
    "\t\tself.c_proj = nn.Linear(config.emb_dim, config.emb_dim, bias=config.bias)\n",
    "\t\tif self.is_causal:\n",
    "\t\t\tself.register_buffer('causal_mask', torch.tril(torch.ones(config.block_size, config.block_size, dtype=torch.bool)))\n",
    "\n",
    "\tdef forward(self, x: Tensor, tok_mask: Tensor):\n",
    "\t\tB, T, C = x.shape\n",
    "\t\t# proj q, k, v for all heads\n",
    "\t\t# the heads are treated as a batch dimension\n",
    "\t\tq, k, v = self.qkv_projection(x).split(self.emb_dim, dim=2)\n",
    "\t\tq = q.view(B, T, self.n_heads, C // self.n_heads).transpose(1, 2)\n",
    "\t\tk = k.view(B, T, self.n_heads, C // self.n_heads).transpose(1, 2)\n",
    "\t\tv = v.view(B, T, self.n_heads, C // self.n_heads).transpose(1, 2)\n",
    "\t\t# compute attention\n",
    "\t\tatt_weights = (q @ k.transpose(-2, -1)) / math.sqrt(k.size(-1))\n",
    "\t\tmask = tok_mask.view(B, 1, 1, T) # (B, 1, 1, T) <=> (B, nh, T, T)\n",
    "\t\tif self.is_causal:\n",
    "\t\t\tmask = mask & self.causal_mask[None, None, :T, :T]\n",
    "\t\tatt_weights = att_weights.masked_fill(mask == 0, -1e9)\n",
    "\t\tatt_weights = F.softmax(att_weights, dim=-1)\n",
    "\t\tatt_weights = self.attn_dropout(att_weights)\n",
    "\t\ty = att_weights @ v\n",
    "\t\t# combine heads\n",
    "\t\ty = y.transpose(1, 2).contiguous().view(B, T, C)\n",
    "\t\ty = self.resid_dropout(self.c_proj(y))\n",
    "\t\treturn y\n",
    "\n",
    "class MultiHeadCrossAttention(nn.Module):\n",
    "\n",
    "\t''' Multi-head cross attention.\n",
    "\tImplements a somewhat optimized version of the cross attention by combining the k, v projections.\n",
    "\t\n",
    "\tInputs:\n",
    "\t\t`x_q`: Tensor<Float>[B, T_q, C] query input tensor.\n",
    "\t\t`x_kv`: Tensor<Float>[B, T_kv, C] key and value input tensor.\n",
    "\t\t`q_tok_mask`: Tensor<Bool>[B, T_q] mask applied to the `x_q`, false is masked out, true is preserved - applies to q only.\n",
    "\t\t`kv_tok_mask`: Tensor<Bool>[B, T_kv] mask applied to the `x_kv`, false is masked out, true is preserved - applies to k and v.\n",
    "\n",
    "\tOutputs:\n",
    "\t\tTensor<Float>[B, T_q, C] output tensor.\n",
    "\t'''\n",
    "\n",
    "\tdef __init__(self, config: TransformerConfig):\n",
    "\t\tsuper().__init__()\n",
    "\t\tself.n_heads = config.n_heads\n",
    "\t\tself.emb_dim = config.emb_dim\n",
    "\t\tself.attn_dropout = nn.Dropout(config.dropout)\n",
    "\t\tself.resid_dropout = nn.Dropout(config.dropout)\n",
    "\t\tself.q_projection = nn.Linear(config.emb_dim, config.emb_dim, bias=config.bias)\n",
    "\t\t# combine k, v projections for efficiency\n",
    "\t\tself.kv_projection = nn.Linear(config.emb_dim, 2 * config.emb_dim, bias=config.bias)\n",
    "\t\t# output projection\n",
    "\t\tself.c_proj = nn.Linear(config.emb_dim, config.emb_dim, bias=config.bias)\n",
    "\n",
    "\tdef forward(self, x_q: Tensor, x_kv: Tensor, q_tok_mask: Tensor, kv_tok_mask: Tensor):\n",
    "\t\t# proj query for all heads\n",
    "\t\tB, T_q, C = x_q.shape\n",
    "\t\tq = self.q_projection(x_q)\n",
    "\t\tq = q.view(B, T_q, self.n_heads, C // self.n_heads).transpose(1, 2)\n",
    "\t\t# proj key & value for all heads\n",
    "\t\tB, T_kv, C = x_kv.shape\n",
    "\t\tk, v = self.kv_projection(x_kv).split(self.emb_dim, dim=2)\n",
    "\t\tk = k.view(B, T_kv, self.n_heads, C // self.n_heads).transpose(1, 2)\n",
    "\t\tv = v.view(B, T_kv, self.n_heads, C // self.n_heads).transpose(1, 2)\n",
    "\t\t# compute attention\n",
    "\t\tatt_weights = (q @ k.transpose(-2, -1)) / math.sqrt(k.size(-1))\n",
    "\t\t# merge masks\n",
    "\t\tq_tok_mask = q_tok_mask.unsqueeze(2) # (N, T_q, 1)\n",
    "\t\tkv_tok_mask = kv_tok_mask.unsqueeze(1) # (N, 1, T_kv)\n",
    "\t\tattn_mask = q_tok_mask & kv_tok_mask\n",
    "\t\t# apply mask\n",
    "\t\tatt_weights = att_weights.masked_fill(attn_mask.unsqueeze(1) == 0, -1e9)\n",
    "\t\tatt_weights = F.softmax(att_weights, dim=-1)\n",
    "\t\tatt_weights = self.attn_dropout(att_weights)\n",
    "\t\ty = att_weights @ v\n",
    "\t\t# combine heads\n",
    "\t\ty = y.transpose(1, 2).contiguous().view(B, T_q, C)\n",
    "\t\ty = self.resid_dropout(self.c_proj(y))\n",
    "\t\treturn y\n",
    "\n",
    "class FeedFoward(nn.Module):\n",
    "\n",
    "\tdef __init__(self, config: TransformerConfig):\n",
    "\t\tsuper().__init__()\n",
    "\t\tself.net = nn.Sequential(\n",
    "\t\t\tnn.Linear(config.emb_dim, 4 * config.emb_dim),\n",
    "\t\t\tnn.ReLU(),\n",
    "\t\t\tnn.Linear(4 * config.emb_dim, config.emb_dim),\n",
    "\t\t)\n",
    "\t\tif config.dropout:\n",
    "\t\t\tself.net.append(nn.Dropout(config.dropout))\n",
    "\n",
    "\tdef forward(self, x: Tensor):\n",
    "\t\treturn self.net(x)\n",
    "\n",
    "class EncoderBlock(nn.Module):\n",
    "\n",
    "\tdef __init__(self, config: TransformerConfig):\n",
    "\t\tsuper().__init__()\n",
    "\t\tself.sa_module = MultiHeadSelfAttention(config)\n",
    "\t\tself.fw_module = FeedFoward(config)\n",
    "\t\tself.ln1 = nn.LayerNorm(config.emb_dim)\n",
    "\t\tself.ln2 = nn.LayerNorm(config.emb_dim)\n",
    "\t\n",
    "\tdef forward(self, src: Tensor, src_mask: Tensor):\n",
    "\t\tx = src + self.sa_module(self.ln1(src), src_mask)\n",
    "\t\tx = x + self.fw_module(self.ln2(src))\n",
    "\t\treturn x\n",
    "\n",
    "class Encoder(nn.Module):\n",
    "\n",
    "\tdef __init__(self, config: TransformerConfig):\n",
    "\t\tsuper().__init__()\n",
    "\t\tself.input_embeddings = InputEmbeddings(config)\n",
    "\t\tself.blocks = nn.ModuleList([EncoderBlock(config) for _ in range(config.n_blocks)])\n",
    "\t\tself.use_grad_ckpt = config.use_grad_ckpt\n",
    "\t\n",
    "\tdef forward(self, src: Tensor, src_mask: Tensor):\n",
    "\t\tx = self.input_embeddings(src)\n",
    "\t\tfor block in self.blocks:\n",
    "\t\t\tif self.use_grad_ckpt:\n",
    "\t\t\t\tforward = lambda *inputs: block(*inputs)\n",
    "\t\t\t\tx = checkpoint(forward, x, src_mask, preserve_rng_state=False)\n",
    "\t\t\telse:\n",
    "\t\t\t\tx = block(x, src_mask)\n",
    "\t\treturn x\n",
    "\n",
    "class DecoderBlock(nn.Module):\n",
    "\n",
    "\tdef __init__(self, config: TransformerConfig):\n",
    "\t\tsuper().__init__()\n",
    "\t\tself.sa_module = MultiHeadSelfAttention(config, is_causal=True)\n",
    "\t\tself.ca_module = MultiHeadCrossAttention(config)\n",
    "\t\tself.fw_module = FeedFoward(config)\n",
    "\t\tself.ln1 = nn.LayerNorm(config.emb_dim)\n",
    "\t\tself.ln2 = nn.LayerNorm(config.emb_dim)\n",
    "\t\tself.ln3 = nn.LayerNorm(config.emb_dim)\n",
    "\t\n",
    "\tdef forward(self, src: Tensor, tgt: Tensor, src_mask: Tensor, tgt_mask: Tensor):\n",
    "\t\tx = tgt + self.sa_module(self.ln1(tgt), tgt_mask)\n",
    "\t\tx = x + self.ca_module(self.ln2(tgt), self.ln2(src), tgt_mask, src_mask)\n",
    "\t\tx = x + self.fw_module(self.ln3(x))\n",
    "\t\treturn x\n",
    "\n",
    "class Decoder(nn.Module):\n",
    "\n",
    "\tdef __init__(self, config: TransformerConfig):\n",
    "\t\tsuper().__init__()\n",
    "\t\tself.input_embeddings = InputEmbeddings(config)\n",
    "\t\tself.blocks = nn.ModuleList([DecoderBlock(config) for _ in range(config.n_blocks)])\n",
    "\t\tself.use_grad_ckpt = config.use_grad_ckpt\n",
    "\t\n",
    "\tdef forward(self, src: Tensor, tgt: Tensor, src_mask: Tensor, tgt_mask: Tensor):\n",
    "\t\tx = self.input_embeddings(tgt)\n",
    "\t\tfor block in self.blocks:\n",
    "\t\t\tif self.use_grad_ckpt:\n",
    "\t\t\t\tforward = lambda *inputs: block(*inputs)\n",
    "\t\t\t\tx = checkpoint(forward, src, x, src_mask, tgt_mask, preserve_rng_state=False)\n",
    "\t\t\telse:\n",
    "\t\t\t\tx = block(src, x, src_mask, tgt_mask)\n",
    "\t\treturn x\n",
    "\n",
    "class LMHead(nn.Module):\n",
    "\n",
    "\tdef __init__(self, config: TransformerConfig):\n",
    "\t\tsuper().__init__()\n",
    "\t\tself.ln = nn.LayerNorm(config.emb_dim)\n",
    "\t\tself.logits_head = nn.Linear(config.emb_dim, config.tgt_vocab_size)\n",
    "\t\n",
    "\tdef forward(self, x: Tensor):\n",
    "\t\tx = self.ln(x)\n",
    "\t\tx = self.logits_head(x)\n",
    "\t\treturn x\n",
    "\n",
    "import pytorch_lightning as pl\n",
    "\n",
    "class TransformerModelLN(pl.LightningModule):\n",
    "\n",
    "\tdef __init__(self, model_config: TransformerConfig, training_config: TrainingConfig):\n",
    "\t\tsuper().__init__()\n",
    "\t\tself.save_hyperparameters()\n",
    "\t\t# self.tokenizer = sp.SentencePieceProcessor(model_file=training_config.sp_model)\n",
    "\t\tself.model_config = model_config\n",
    "\t\tself.learning_rate = training_config.learning_rate\n",
    "\t\tself.batch_size = training_config.batch_size\n",
    "\t\tself.criterion = nn.CrossEntropyLoss(ignore_index=PAD_IDX)\n",
    "\t\t# setup sample input for tracing\n",
    "\t\tself.example_input_array = (torch.zeros(1, model_config.block_size, dtype=torch.long),\n",
    "\t\t\t      \t\t\t\t\ttorch.zeros(1, model_config.block_size, dtype=torch.long),\n",
    "\t\t\t\t\t\t\t\t\ttorch.zeros(1, 1, model_config.block_size, dtype=torch.long),\n",
    "\t\t\t\t\t\t\t\t\ttorch.zeros(1, 1, model_config.block_size, dtype=torch.long))\n",
    "\t\t# model parts\n",
    "\t\tself.encoder = Encoder(model_config)\n",
    "\t\tself.decoder = Decoder(model_config)\n",
    "\t\tself.lm_head = LMHead(model_config)\n",
    "\t\t# weight tying\n",
    "\t\tif model_config.weight_tying:\n",
    "\t\t\tself.decoder.input_embeddings.token_embedding_table.weight = self.lm_head.logits_head.weight\n",
    "\t\t# self.optimizer = torch.optim.AdamW(self.parameters(), lr=self.learning_rate)\n",
    "\n",
    "\tdef forward(self, src: Tensor, tgt: Tensor, src_tok_mask: Tensor, tgt_tok_mask: Tensor):\n",
    "\t\tenc = self.encoder(src, src_tok_mask)\n",
    "\t\tdec = self.decoder(enc, tgt, src_tok_mask, tgt_tok_mask)\n",
    "\t\tlogits = self.lm_head(dec)\n",
    "\t\treturn logits\n",
    "\t\n",
    "\tdef calculate_loss(self, y_pred: Tensor, y_true: Tensor, prefix: str):\n",
    "\t\t''' Calculate and log loss for a batch of predictions.'''\n",
    "\t\tB, T = y_true.shape\n",
    "\t\tloss = self.criterion(y_pred.view(B * T, -1), y_true.reshape(B * T))\n",
    "\t\t# log the loss\n",
    "\t\tself.log(f'{prefix}_loss', loss)\n",
    "\t\treturn loss\n",
    "\n",
    "\tdef calculate_metrics(self, y_pred: Tensor, y_true: Tensor, prefix: str):\n",
    "\t\t''' Calculate and log [accuracy] for a batch of predictions.'''\n",
    "\t\tB, T = y_true.shape\n",
    "\t\t# flatten the tensors\n",
    "\t\ty_pred = y_pred.view(B * T, -1).argmax(dim=-1)\n",
    "\t\ty_true = y_true.reshape(B * T)\n",
    "\t\t# calculate the metrics\n",
    "\t\taccuracy = (y_pred == y_true).float().mean()\n",
    "\t\t# log the metrics\n",
    "\t\tself.log(f'{prefix}_accuracy', accuracy)\n",
    "\n",
    "\tdef training_step(self, batch: TranslationBatch, batch_idx: int):\n",
    "\t\t# opt = self.optimizer\n",
    "\t\t# opt.zero_grad()\n",
    "\t\ty_pred = self(batch.x_src, batch.x_tgt, batch.x_src_mask, batch.x_tgt_mask)\n",
    "\t\tself.calculate_metrics(y_pred, batch.y_tgt, 'train')\n",
    "\t\tloss = self.calculate_loss(y_pred, batch.y_tgt, 'train')\n",
    "\t\t# loss.backward()\n",
    "\t\t# opt.step()\n",
    "\t\tself.log('train_loss', loss)\n",
    "\t\treturn loss\n",
    "\n",
    "\tdef validation_step(self, batch: TranslationBatch, batch_idx: int):\n",
    "\t\ty_pred = self(batch.x_src, batch.x_tgt, batch.x_src_mask, batch.x_tgt_mask)\n",
    "\t\tself.calculate_metrics(y_pred, batch.y_tgt, 'val')\n",
    "\t\tloss = self.calculate_loss(y_pred, batch.y_tgt, 'val')\n",
    "\t\tself.log('val_loss', loss)\n",
    "\t\treturn loss\n",
    "\n",
    "\tdef test_step(self, batch: TranslationBatch, batch_idx: int):\n",
    "\t\ty_pred = self(batch.x_src, batch.x_tgt, batch.x_src_mask, batch.x_tgt_mask)\n",
    "\t\tself.calculate_metrics(y_pred, batch.y_tgt, 'test')\n",
    "\t\treturn self.calculate_loss(y_pred, batch.y_tgt, 'test')\n",
    "\n",
    "\tdef configure_optimizers(self):\n",
    "\t\treturn torch.optim.AdamW(self.parameters(), lr=self.learning_rate)"
   ]
  },
  {
   "cell_type": "code",
   "execution_count": 64,
   "metadata": {},
   "outputs": [],
   "source": [
    "# function to collate data samples into batch tensors\n",
    "def collate_fn(batch):\n",
    "    src_batch, tgt_batch = [], []\n",
    "    for src_sample, tgt_sample in batch:\n",
    "        src_batch.append(text_transform[SRC_LANGUAGE](src_sample.rstrip(\"\\n\")))\n",
    "        tgt_batch.append(text_transform[TGT_LANGUAGE](tgt_sample.rstrip(\"\\n\")))\n",
    "\n",
    "    src_batch = pad_sequence(src_batch, padding_value=PAD_IDX, batch_first=True).cuda()\n",
    "    tgt_batch = pad_sequence(tgt_batch, padding_value=PAD_IDX, batch_first=True).cuda()\n",
    "    return TranslationBatch(src_batch, tgt_batch[:, :-1], src_batch != PAD_IDX, tgt_batch[:, :-1] != PAD_IDX, tgt_batch[:, 1:])"
   ]
  },
  {
   "cell_type": "code",
   "execution_count": 65,
   "metadata": {},
   "outputs": [],
   "source": [
    "model_config = TransformerConfig(\n",
    "    block_size= 256,\n",
    "    src_vocab_size= SRC_VOCAB_SIZE,\n",
    "    tgt_vocab_size= TGT_VOCAB_SIZE,\n",
    "    n_blocks= 3,\n",
    "    n_heads= 8, # Number of heads in multi-head attention, each head has dim = emb_dim/n_heads\n",
    "    emb_dim= 512,\n",
    "    dropout= 0.1, # Applies to: post-attention, post-linear\n",
    "    bias= False, # Applies to: qkv projections in attention layers\n",
    "    weight_tying= False,\n",
    "    use_grad_ckpt= False,\n",
    ")\n",
    "\n",
    "training_config = TrainingConfig(\n",
    "    learning_rate= 0.001,\n",
    "    autotune_learning_rate= True,\n",
    "    compile_model= False,\n",
    "    shuffle= True,\n",
    "    max_steps= 500000,\n",
    "    batch_size= 128,\n",
    "    gradient_accum_steps= 1,\n",
    "    sp_model= 'data/multi30k/m_en_de.model',\n",
    "    # training\n",
    "    train_src_file= 'data/multi30k/train.en',\n",
    "    train_tgt_file= 'data/multi30k/train.de',\n",
    "    # validation\n",
    "    val_src_file= 'data/multi30k/val.en',\n",
    "    val_tgt_file= 'data/multi30k/val.de',\n",
    ")"
   ]
  },
  {
   "cell_type": "code",
   "execution_count": 66,
   "metadata": {},
   "outputs": [],
   "source": [
    "model = TransformerModelLN(model_config, training_config)"
   ]
  },
  {
   "cell_type": "code",
   "execution_count": 67,
   "metadata": {},
   "outputs": [],
   "source": [
    "from torch.utils.data import DataLoader\n",
    "\n",
    "train_iter = Multi30k(split='train', language_pair=(SRC_LANGUAGE, TGT_LANGUAGE))\n",
    "val_iter = Multi30k(split='valid', language_pair=(SRC_LANGUAGE, TGT_LANGUAGE))\n",
    "train_dl = DataLoader(train_iter, batch_size=training_config.batch_size, shuffle=training_config.shuffle, collate_fn=collate_fn)\n",
    "val_dl = DataLoader(val_iter, batch_size=training_config.batch_size, shuffle=training_config.shuffle, collate_fn=collate_fn)"
   ]
  },
  {
   "cell_type": "code",
   "execution_count": 68,
   "metadata": {},
   "outputs": [
    {
     "name": "stderr",
     "output_type": "stream",
     "text": [
      "GPU available: True (cuda), used: True\n",
      "TPU available: False, using: 0 TPU cores\n",
      "IPU available: False, using: 0 IPUs\n",
      "HPU available: False, using: 0 HPUs\n"
     ]
    }
   ],
   "source": [
    "trainer = pl.Trainer(gpus=1)"
   ]
  },
  {
   "cell_type": "code",
   "execution_count": 69,
   "metadata": {},
   "outputs": [
    {
     "name": "stderr",
     "output_type": "stream",
     "text": [
      "LOCAL_RANK: 0 - CUDA_VISIBLE_DEVICES: [0]\n",
      "\n",
      "  | Name      | Type             | Params | In sizes                                            | Out sizes      \n",
      "-----------------------------------------------------------------------------------------------------------------------\n",
      "0 | criterion | CrossEntropyLoss | 0      | ?                                                   | ?              \n",
      "1 | encoder   | Encoder          | 19.4 M | [[1, 256], [1, 1, 256]]                             | [1, 256, 512]  \n",
      "2 | decoder   | Decoder          | 22.6 M | [[1, 256, 512], [1, 256], [1, 1, 256], [1, 1, 256]] | [1, 256, 512]  \n",
      "3 | lm_head   | LMHead           | 5.6 M  | [1, 256, 512]                                       | [1, 256, 10837]\n",
      "-----------------------------------------------------------------------------------------------------------------------\n",
      "47.5 M    Trainable params\n",
      "0         Non-trainable params\n",
      "47.5 M    Total params\n",
      "190.194   Total estimated model params size (MB)\n"
     ]
    },
    {
     "data": {
      "application/vnd.jupyter.widget-view+json": {
       "model_id": "eb5b1be5a6f84207b11a97a74337fa1c",
       "version_major": 2,
       "version_minor": 0
      },
      "text/plain": [
       "Sanity Checking: 0it [00:00, ?it/s]"
      ]
     },
     "metadata": {},
     "output_type": "display_data"
    },
    {
     "data": {
      "application/vnd.jupyter.widget-view+json": {
       "model_id": "3f21cb0c227b43c0b1b71fc5ad948bd3",
       "version_major": 2,
       "version_minor": 0
      },
      "text/plain": [
       "Training: 0it [00:00, ?it/s]"
      ]
     },
     "metadata": {},
     "output_type": "display_data"
    },
    {
     "data": {
      "application/vnd.jupyter.widget-view+json": {
       "model_id": "d30f0beb74ee4c08bf7bdfc97d1812ae",
       "version_major": 2,
       "version_minor": 0
      },
      "text/plain": [
       "Validation: 0it [00:00, ?it/s]"
      ]
     },
     "metadata": {},
     "output_type": "display_data"
    },
    {
     "data": {
      "application/vnd.jupyter.widget-view+json": {
       "model_id": "8a22aca341bc4ba58690818385b73490",
       "version_major": 2,
       "version_minor": 0
      },
      "text/plain": [
       "Validation: 0it [00:00, ?it/s]"
      ]
     },
     "metadata": {},
     "output_type": "display_data"
    },
    {
     "data": {
      "application/vnd.jupyter.widget-view+json": {
       "model_id": "f983fad85246404a8724c5ef2fe48b01",
       "version_major": 2,
       "version_minor": 0
      },
      "text/plain": [
       "Validation: 0it [00:00, ?it/s]"
      ]
     },
     "metadata": {},
     "output_type": "display_data"
    },
    {
     "data": {
      "application/vnd.jupyter.widget-view+json": {
       "model_id": "0a77c4690c6547fc91adcda2197f0cb4",
       "version_major": 2,
       "version_minor": 0
      },
      "text/plain": [
       "Validation: 0it [00:00, ?it/s]"
      ]
     },
     "metadata": {},
     "output_type": "display_data"
    },
    {
     "data": {
      "application/vnd.jupyter.widget-view+json": {
       "model_id": "d7fec6a60cc24cee8a0976d2066ecd10",
       "version_major": 2,
       "version_minor": 0
      },
      "text/plain": [
       "Validation: 0it [00:00, ?it/s]"
      ]
     },
     "metadata": {},
     "output_type": "display_data"
    },
    {
     "data": {
      "application/vnd.jupyter.widget-view+json": {
       "model_id": "5d8369ec57d2431189df79d4deb52d05",
       "version_major": 2,
       "version_minor": 0
      },
      "text/plain": [
       "Validation: 0it [00:00, ?it/s]"
      ]
     },
     "metadata": {},
     "output_type": "display_data"
    }
   ],
   "source": [
    "trainer.fit(model, train_dl, val_dl)"
   ]
  },
  {
   "cell_type": "code",
   "execution_count": 71,
   "metadata": {},
   "outputs": [
    {
     "name": "stderr",
     "output_type": "stream",
     "text": [
      "LOCAL_RANK: 0 - CUDA_VISIBLE_DEVICES: [0]\n"
     ]
    },
    {
     "data": {
      "application/vnd.jupyter.widget-view+json": {
       "model_id": "7a032b1d59a14265ae358bd1ebb194d6",
       "version_major": 2,
       "version_minor": 0
      },
      "text/plain": [
       "Validation: 0it [00:00, ?it/s]"
      ]
     },
     "metadata": {},
     "output_type": "display_data"
    },
    {
     "name": "stdout",
     "output_type": "stream",
     "text": [
      "────────────────────────────────────────────────────────────────────────────────────────────────────────────────────────\n",
      "     Validate metric           DataLoader 0\n",
      "────────────────────────────────────────────────────────────────────────────────────────────────────────────────────────\n",
      "      val_accuracy          0.33583131432533264\n",
      "        val_loss             2.153543472290039\n",
      "────────────────────────────────────────────────────────────────────────────────────────────────────────────────────────\n"
     ]
    },
    {
     "data": {
      "text/plain": [
       "[{'val_accuracy': 0.33583131432533264, 'val_loss': 2.153543472290039}]"
      ]
     },
     "execution_count": 71,
     "metadata": {},
     "output_type": "execute_result"
    }
   ],
   "source": [
    "trainer.validate(model, val_dl)"
   ]
  },
  {
   "cell_type": "code",
   "execution_count": null,
   "metadata": {},
   "outputs": [],
   "source": []
  }
 ],
 "metadata": {
  "kernelspec": {
   "display_name": "Python 3",
   "language": "python",
   "name": "python3"
  },
  "language_info": {
   "codemirror_mode": {
    "name": "ipython",
    "version": 3
   },
   "file_extension": ".py",
   "mimetype": "text/x-python",
   "name": "python",
   "nbconvert_exporter": "python",
   "pygments_lexer": "ipython3",
   "version": "3.10.7"
  },
  "orig_nbformat": 4,
  "vscode": {
   "interpreter": {
    "hash": "916dbcbb3f70747c44a77c7bcd40155683ae19c65e1c03b4aa3499c5328201f1"
   }
  }
 },
 "nbformat": 4,
 "nbformat_minor": 2
}
