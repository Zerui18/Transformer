{
 "cells": [
  {
   "cell_type": "code",
   "execution_count": 1,
   "metadata": {},
   "outputs": [],
   "source": [
    "import torch\n",
    "from torchtext.data.utils import get_tokenizer\n",
    "from torchtext.vocab import build_vocab_from_iterator\n",
    "from torchtext.datasets import multi30k, Multi30k\n",
    "from typing import Iterable, List\n",
    "\n",
    "torch.manual_seed(0)\n",
    "torch.set_float32_matmul_precision('high')\n",
    "\n",
    "DEVICE = torch.device('cuda:0')\n",
    "\n",
    "# We need to modify the URLs for the dataset since the links to the original dataset are broken\n",
    "# Refer to https://github.com/pytorch/text/issues/1756#issuecomment-1163664163 for more info\n",
    "multi30k.URL[\"train\"] = \"https://raw.githubusercontent.com/neychev/small_DL_repo/master/datasets/Multi30k/training.tar.gz\"\n",
    "multi30k.URL[\"valid\"] = \"https://raw.githubusercontent.com/neychev/small_DL_repo/master/datasets/Multi30k/validation.tar.gz\"\n",
    "\n",
    "SRC_LANGUAGE = 'de'\n",
    "TGT_LANGUAGE = 'en'\n",
    "\n",
    "# Place-holders\n",
    "token_transform = {}\n",
    "vocab_transform = {}\n",
    "\n",
    "\n",
    "# Create source and target language tokenizer. Make sure to install the dependencies.\n",
    "# pip install -U torchdata\n",
    "# pip install -U spacy\n",
    "# python -m spacy download en_core_web_sm\n",
    "# python -m spacy download de_core_news_sm\n",
    "token_transform[SRC_LANGUAGE] = get_tokenizer('spacy', language='de_core_news_sm')\n",
    "token_transform[TGT_LANGUAGE] = get_tokenizer('spacy', language='en_core_web_sm')\n",
    "\n",
    "\n",
    "# helper function to yield list of tokens\n",
    "def yield_tokens(data_iter: Iterable, language: str) -> List[str]:\n",
    "    language_index = {SRC_LANGUAGE: 0, TGT_LANGUAGE: 1}\n",
    "\n",
    "    for data_sample in data_iter:\n",
    "        yield token_transform[language](data_sample[language_index[language]])\n",
    "\n",
    "# Define special symbols and indices\n",
    "UNK_IDX, PAD_IDX, BOS_IDX, EOS_IDX = 0, 1, 2, 3\n",
    "# Make sure the tokens are in order of their indices to properly insert them in vocab\n",
    "special_symbols = ['<unk>', '<pad>', '<bos>', '<eos>']\n",
    "\n",
    "for ln in [SRC_LANGUAGE, TGT_LANGUAGE]:\n",
    "    # Training data Iterator\n",
    "    train_iter = Multi30k(split='train', language_pair=(SRC_LANGUAGE, TGT_LANGUAGE))\n",
    "    # Create torchtext's Vocab object\n",
    "    vocab_transform[ln] = build_vocab_from_iterator(yield_tokens(train_iter, ln),\n",
    "                                                    min_freq=1,\n",
    "                                                    specials=special_symbols,\n",
    "                                                    special_first=True)\n",
    "\n",
    "# Set UNK_IDX as the default index. This index is returned when the token is not found.\n",
    "# If not set, it throws RuntimeError when the queried token is not found in the Vocabulary.\n",
    "for ln in [SRC_LANGUAGE, TGT_LANGUAGE]:\n",
    "  vocab_transform[ln].set_default_index(UNK_IDX)\n",
    "\n",
    "def make_tok_masks(src, tgt):\n",
    "    src_mask = (src != PAD_IDX)\n",
    "    tgt_mask = (tgt != PAD_IDX)\n",
    "    return src_mask, tgt_mask"
   ]
  },
  {
   "cell_type": "code",
   "execution_count": 2,
   "metadata": {},
   "outputs": [],
   "source": [
    "ds = list(Multi30k(split='train', language_pair=(SRC_LANGUAGE, TGT_LANGUAGE)))"
   ]
  },
  {
   "cell_type": "code",
   "execution_count": 3,
   "metadata": {},
   "outputs": [
    {
     "data": {
      "text/plain": [
       "29001"
      ]
     },
     "execution_count": 3,
     "metadata": {},
     "output_type": "execute_result"
    }
   ],
   "source": [
    "len(ds)"
   ]
  },
  {
   "cell_type": "code",
   "execution_count": 4,
   "metadata": {},
   "outputs": [],
   "source": [
    "def generate_square_subsequent_mask(sz):\n",
    "    mask = (torch.triu(torch.ones((sz, sz), device=DEVICE)) == 1).transpose(0, 1)\n",
    "    mask = mask.float().masked_fill(mask == 0, float('-inf')).masked_fill(mask == 1, float(0.0))\n",
    "    return mask\n",
    "\n",
    "def create_mask(src, tgt):\n",
    "    src_seq_len = src.shape[1]\n",
    "    tgt_seq_len = tgt.shape[1]\n",
    "\n",
    "    tgt_mask = generate_square_subsequent_mask(tgt_seq_len)\n",
    "    src_mask = torch.zeros((src_seq_len, src_seq_len), dtype=torch.bool)\n",
    "\n",
    "    src_padding_mask = (src == PAD_IDX)\n",
    "    tgt_padding_mask = (tgt == PAD_IDX)\n",
    "    return src_mask.to(DEVICE), tgt_mask.to(DEVICE), src_padding_mask.to(DEVICE), tgt_padding_mask.to(DEVICE)"
   ]
  },
  {
   "attachments": {},
   "cell_type": "markdown",
   "metadata": {},
   "source": [
    "# Model"
   ]
  },
  {
   "cell_type": "code",
   "execution_count": 288,
   "metadata": {},
   "outputs": [],
   "source": [
    "import torch.nn as nn\n",
    "from torch import Tensor\n",
    "\n",
    "class InputEmbeddings(nn.Module):\n",
    "\t''' Apply learnable token and position embeddings to input tokens. '''\n",
    "\n",
    "\tdef __init__(self, vocab_size: int, emb_size: int, maxlen: int = 5000):\n",
    "\t\tsuper().__init__()\n",
    "\t\tself.token_embedding_table = nn.Embedding(vocab_size, emb_size)\n",
    "\t\tself.position_embedding_table = nn.Embedding(maxlen, emb_size)\n",
    "\t\tself.register_buffer('pos_emb_index', torch.arange(maxlen))\n",
    "\t\n",
    "\tdef forward(self, x: Tensor):\n",
    "\t\tB, T = x.shape\n",
    "\t\ttok_embd = self.token_embedding_table(x)\n",
    "\t\tpos_embd = self.position_embedding_table(self.pos_emb_index[:T])\n",
    "\t\treturn tok_embd + pos_embd\n",
    "\n",
    "# Seq2Seq Network\n",
    "class Seq2SeqTransformer(nn.Module):\n",
    "    def __init__(self,\n",
    "                 num_encoder_layers: int,\n",
    "                 num_decoder_layers: int,\n",
    "                 emb_size: int,\n",
    "                 nhead: int,\n",
    "                 src_vocab_size: int,\n",
    "                 tgt_vocab_size: int,\n",
    "                 dim_feedforward: int = 512,\n",
    "                 dropout: float = 0.1):\n",
    "        super(Seq2SeqTransformer, self).__init__()\n",
    "        self.transformer = nn.Transformer(d_model=emb_size,\n",
    "                                       nhead=nhead,\n",
    "                                       num_encoder_layers=num_encoder_layers,\n",
    "                                       num_decoder_layers=num_decoder_layers,\n",
    "                                       dim_feedforward=dim_feedforward,\n",
    "                                       dropout=dropout,\n",
    "                                       batch_first=True)\n",
    "        self.generator = nn.Linear(emb_size, tgt_vocab_size)\n",
    "        self.src_tok_emb = InputEmbeddings(src_vocab_size, emb_size)\n",
    "        self.tgt_tok_emb = InputEmbeddings(tgt_vocab_size, emb_size)\n",
    "\n",
    "    def forward(self,\n",
    "                src: Tensor,\n",
    "                trg: Tensor,\n",
    "                src_mask: Tensor,\n",
    "                tgt_mask: Tensor,\n",
    "                src_padding_mask: Tensor,\n",
    "                tgt_padding_mask: Tensor,\n",
    "                memory_key_padding_mask: Tensor):\n",
    "        src_emb = (self.src_tok_emb(src))\n",
    "        tgt_emb = (self.tgt_tok_emb(trg))\n",
    "        outs = self.transformer(src_emb, tgt_emb, src_mask, tgt_mask, None,\n",
    "                                src_padding_mask, tgt_padding_mask, memory_key_padding_mask)\n",
    "        return self.generator(outs)\n",
    "\n",
    "    def encode(self, src: Tensor, src_mask: Tensor):\n",
    "        return self.transformer.encoder((\n",
    "                            self.src_tok_emb(src)), src_mask)\n",
    "\n",
    "    def decode(self, tgt: Tensor, memory: Tensor, tgt_mask: Tensor):\n",
    "        return self.transformer.decoder((\n",
    "                          self.tgt_tok_emb(tgt)), memory,\n",
    "                          tgt_mask)"
   ]
  },
  {
   "cell_type": "code",
   "execution_count": 148,
   "metadata": {},
   "outputs": [],
   "source": [
    "from torch.nn.utils.rnn import pad_sequence\n",
    "\n",
    "# helper function to club together sequential operations\n",
    "def sequential_transforms(*transforms):\n",
    "    def func(txt_input):\n",
    "        for transform in transforms:\n",
    "            txt_input = transform(txt_input)\n",
    "        return txt_input\n",
    "    return func\n",
    "\n",
    "# function to add BOS/EOS and create tensor for input sequence indices\n",
    "def tensor_transform(token_ids: List[int]):\n",
    "    return torch.cat((torch.tensor([BOS_IDX]),\n",
    "                      torch.tensor(token_ids),\n",
    "                      torch.tensor([EOS_IDX])))\n",
    "\n",
    "# src and tgt language text transforms to convert raw strings into tensors indices\n",
    "text_transform = {}\n",
    "for ln in [SRC_LANGUAGE, TGT_LANGUAGE]:\n",
    "    text_transform[ln] = sequential_transforms(token_transform[ln], #Tokenization\n",
    "                                               vocab_transform[ln], #Numericalization\n",
    "                                               tensor_transform) # Add BOS/EOS and create tensor\n",
    "\n",
    "\n",
    "# function to collate data samples into batch tensors\n",
    "def collate_fn(batch):\n",
    "    src_batch, tgt_batch = [], []\n",
    "    for src_sample, tgt_sample in batch:\n",
    "        src_batch.append(text_transform[SRC_LANGUAGE](src_sample.rstrip(\"\\n\")))\n",
    "        tgt_batch.append(text_transform[TGT_LANGUAGE](tgt_sample.rstrip(\"\\n\")))\n",
    "\n",
    "    src_batch = pad_sequence(src_batch, padding_value=PAD_IDX, batch_first=True)\n",
    "    tgt_batch = pad_sequence(tgt_batch, padding_value=PAD_IDX, batch_first=True)\n",
    "    return src_batch, tgt_batch"
   ]
  },
  {
   "cell_type": "code",
   "execution_count": 7,
   "metadata": {},
   "outputs": [],
   "source": [
    "SRC_VOCAB_SIZE = len(vocab_transform[SRC_LANGUAGE])\n",
    "TGT_VOCAB_SIZE = len(vocab_transform[TGT_LANGUAGE])\n",
    "\n",
    "EMB_SIZE = 512\n",
    "NHEAD = 8\n",
    "FFN_HID_DIM = 512\n",
    "BATCH_SIZE = 128\n",
    "NUM_ENCODER_LAYERS = 3\n",
    "NUM_DECODER_LAYERS = 3\n",
    "\n",
    "transformer = Seq2SeqTransformer(num_encoder_layers=NUM_ENCODER_LAYERS,\n",
    "                                 num_decoder_layers=NUM_DECODER_LAYERS,\n",
    "                                 emb_size=EMB_SIZE,\n",
    "                                 nhead=NHEAD,\n",
    "                                 src_vocab_size=SRC_VOCAB_SIZE,\n",
    "                                 tgt_vocab_size=TGT_VOCAB_SIZE,\n",
    "                                 dim_feedforward=FFN_HID_DIM,\n",
    "                                 dropout=0.1)\n",
    "\n",
    "transformer = transformer.to(DEVICE)\n",
    "\n",
    "loss_fn = torch.nn.CrossEntropyLoss(ignore_index=PAD_IDX)\n",
    "\n",
    "optimizer = torch.optim.Adam(transformer.parameters(), lr=0.0001, betas=(0.9, 0.98), eps=1e-9)"
   ]
  },
  {
   "cell_type": "code",
   "execution_count": 8,
   "metadata": {},
   "outputs": [],
   "source": [
    "from torch.utils.data import DataLoader\n",
    "\n",
    "def train_epoch(model, optimizer):\n",
    "    model.train()\n",
    "    losses = 0\n",
    "    train_iter = Multi30k(split='train', language_pair=(SRC_LANGUAGE, TGT_LANGUAGE))\n",
    "    train_dataloader = DataLoader(train_iter, batch_size=BATCH_SIZE, collate_fn=collate_fn)\n",
    "\n",
    "    for src, tgt in train_dataloader:\n",
    "        src = src.to(DEVICE)\n",
    "        tgt = tgt.to(DEVICE)\n",
    "\n",
    "        tgt_input = tgt[:, :-1]\n",
    "\n",
    "        src_mask, tgt_mask, src_padding_mask, tgt_padding_mask = create_mask(src, tgt_input)\n",
    "        logits = model(src, tgt_input, src_mask, tgt_mask, src_padding_mask, tgt_padding_mask, src_padding_mask)\n",
    "\n",
    "        optimizer.zero_grad()\n",
    "\n",
    "        tgt_out = tgt[:, 1:]\n",
    "        loss = loss_fn(logits.reshape(-1, logits.shape[-1]), tgt_out.reshape(-1))\n",
    "        loss.backward()\n",
    "\n",
    "        optimizer.step()\n",
    "        losses += loss.item()\n",
    "\n",
    "    return losses / len(list(train_dataloader))\n",
    "\n",
    "\n",
    "def evaluate(model):\n",
    "    model.eval()\n",
    "    losses = 0\n",
    "\n",
    "    val_iter = Multi30k(split='valid', language_pair=(SRC_LANGUAGE, TGT_LANGUAGE))\n",
    "    val_dataloader = DataLoader(val_iter, batch_size=BATCH_SIZE, collate_fn=collate_fn)\n",
    "\n",
    "    for src, tgt in val_dataloader:\n",
    "        src = src.to(DEVICE)\n",
    "        tgt = tgt.to(DEVICE)\n",
    "\n",
    "        tgt_input = tgt[:, :-1]\n",
    "\n",
    "        src_mask, tgt_mask, src_padding_mask, tgt_padding_mask = create_mask(src, tgt_input)\n",
    "        logits = model(src, tgt_input, src_mask, tgt_mask,src_padding_mask, tgt_padding_mask, src_padding_mask)\n",
    "\n",
    "        tgt_out = tgt[:, 1:]\n",
    "        loss = loss_fn(logits.reshape(-1, logits.shape[-1]), tgt_out.reshape(-1))\n",
    "        losses += loss.item()\n",
    "\n",
    "    return losses / len(list(val_dataloader))"
   ]
  },
  {
   "cell_type": "code",
   "execution_count": 9,
   "metadata": {},
   "outputs": [
    {
     "name": "stderr",
     "output_type": "stream",
     "text": [
      "/home/chen/Desktop/ML/Transformer/transformer/lib/python3.11/site-packages/torch/nn/functional.py:4999: UserWarning: Support for mismatched key_padding_mask and attn_mask is deprecated. Use same type for both instead.\n",
      "  warnings.warn(\n",
      "/home/chen/Desktop/ML/Transformer/transformer/lib/python3.11/site-packages/torch/utils/data/datapipes/iter/combining.py:297: UserWarning: Some child DataPipes are not exhausted when __iter__ is called. We are resetting the buffer and each child DataPipe will read from the start again.\n",
      "  warnings.warn(\"Some child DataPipes are not exhausted when __iter__ is called. We are resetting \"\n"
     ]
    },
    {
     "name": "stdout",
     "output_type": "stream",
     "text": [
      "Epoch: 1, Train loss: 4.989, Val loss: 3.925, Epoch time = 7.518s\n",
      "Epoch: 2, Train loss: 3.670, Val loss: 3.332, Epoch time = 6.923s\n",
      "Epoch: 3, Train loss: 3.209, Val loss: 3.021, Epoch time = 6.945s\n",
      "Epoch: 4, Train loss: 2.908, Val loss: 2.823, Epoch time = 6.921s\n",
      "Epoch: 5, Train loss: 2.684, Val loss: 2.687, Epoch time = 7.032s\n",
      "Epoch: 6, Train loss: 2.501, Val loss: 2.579, Epoch time = 6.990s\n",
      "Epoch: 7, Train loss: 2.348, Val loss: 2.489, Epoch time = 7.001s\n",
      "Epoch: 8, Train loss: 2.213, Val loss: 2.420, Epoch time = 6.954s\n",
      "Epoch: 9, Train loss: 2.093, Val loss: 2.360, Epoch time = 6.922s\n",
      "Epoch: 10, Train loss: 1.983, Val loss: 2.324, Epoch time = 6.950s\n",
      "Epoch: 11, Train loss: 1.884, Val loss: 2.285, Epoch time = 6.878s\n",
      "Epoch: 12, Train loss: 1.785, Val loss: 2.252, Epoch time = 6.848s\n",
      "Epoch: 13, Train loss: 1.700, Val loss: 2.228, Epoch time = 6.880s\n",
      "Epoch: 14, Train loss: 1.615, Val loss: 2.210, Epoch time = 6.888s\n",
      "Epoch: 15, Train loss: 1.534, Val loss: 2.199, Epoch time = 6.888s\n",
      "Epoch: 16, Train loss: 1.459, Val loss: 2.185, Epoch time = 6.910s\n",
      "Epoch: 17, Train loss: 1.389, Val loss: 2.174, Epoch time = 6.915s\n",
      "Epoch: 18, Train loss: 1.323, Val loss: 2.167, Epoch time = 6.909s\n",
      "Epoch: 19, Train loss: 1.258, Val loss: 2.159, Epoch time = 6.903s\n",
      "Epoch: 20, Train loss: 1.197, Val loss: 2.152, Epoch time = 6.900s\n"
     ]
    }
   ],
   "source": [
    "from timeit import default_timer as timer\n",
    "NUM_EPOCHS = 20\n",
    "\n",
    "for epoch in range(1, NUM_EPOCHS+1):\n",
    "    start_time = timer()\n",
    "    train_loss = train_epoch(transformer, optimizer)\n",
    "    end_time = timer()\n",
    "    val_loss = evaluate(transformer)\n",
    "    print((f\"Epoch: {epoch}, Train loss: {train_loss:.3f}, Val loss: {val_loss:.3f}, \"f\"Epoch time = {(end_time - start_time):.3f}s\"))\n"
   ]
  },
  {
   "attachments": {},
   "cell_type": "markdown",
   "metadata": {},
   "source": [
    "# Lightning Training"
   ]
  },
  {
   "attachments": {},
   "cell_type": "markdown",
   "metadata": {},
   "source": [
    "## 1. Using Automatic Optimization"
   ]
  },
  {
   "cell_type": "code",
   "execution_count": 38,
   "metadata": {},
   "outputs": [],
   "source": [
    "import pytorch_lightning as pl\n",
    "\n",
    "class Seq2SeqTransformerLNAuto(pl.LightningModule):\n",
    "\t\t\n",
    "\tdef __init__(self, transformer: Seq2SeqTransformer):\n",
    "\t\tsuper().__init__()\n",
    "\t\tself.transformer = transformer\n",
    "\t\tself.criterion = nn.CrossEntropyLoss(ignore_index=PAD_IDX)\n",
    "\n",
    "\tdef forward(self, src, tgt, src_mask, tgt_mask, src_padding_mask, tgt_padding_mask, memory_key_padding_mask):\n",
    "\t\treturn self.transformer(src, tgt, src_mask, tgt_mask, src_padding_mask, tgt_padding_mask, memory_key_padding_mask)\n",
    "\t\n",
    "\tdef training_step(self, batch, batch_idx: int):\n",
    "\t\tsrc, tgt = batch\n",
    "\t\ttgt_input = tgt[:, :-1]\n",
    "\t\tsrc_mask, tgt_mask, src_padding_mask, tgt_padding_mask = create_mask(src, tgt_input)\n",
    "\t\tmemory_key_padding_mask = src_padding_mask\n",
    "\t\ty_pred = self(src, tgt_input, src_mask, tgt_mask, src_padding_mask, tgt_padding_mask, memory_key_padding_mask)\n",
    "\t\ty_gt = tgt[:, 1:]\n",
    "\t\tloss = self.criterion(y_pred.view(-1, y_pred.shape[-1]), y_gt.reshape(-1))\n",
    "\t\tself.log('train_loss', loss, prog_bar=True)\n",
    "\t\tself.train_losses.append(loss)\n",
    "\t\treturn loss\n",
    "\n",
    "\tdef validation_step(self, batch, batch_idx: int):\n",
    "\t\tsrc, tgt = batch\n",
    "\t\ttgt_input = tgt[:, :-1]\n",
    "\t\tsrc_mask, tgt_mask, src_padding_mask, tgt_padding_mask = create_mask(src, tgt_input)\n",
    "\t\tmemory_key_padding_mask = src_padding_mask\n",
    "\t\ty_pred = self(src, tgt_input, src_mask, tgt_mask, src_padding_mask, tgt_padding_mask, memory_key_padding_mask)\n",
    "\t\ty_gt = tgt[:, 1:]\n",
    "\t\tloss = self.criterion(y_pred.view(-1, y_pred.shape[-1]), y_gt.reshape(-1))\n",
    "\t\tself.log('val_loss', loss, prog_bar=True)\n",
    "\t\tself.val_losses.append(loss)\n",
    "\t\treturn loss\n",
    "\t\n",
    "\tdef on_train_epoch_start(self):\n",
    "\t\tself.train_losses = []\n",
    "\t\n",
    "\tdef on_validation_epoch_start(self):\n",
    "\t\tself.val_losses = []\n",
    "\t\n",
    "\tdef on_train_epoch_end(self):\n",
    "\t\tloss = sum(self.train_losses) / len(self.train_losses)\n",
    "\t\tprint(f'Epoch {self.trainer.current_epoch} train loss:', loss)\n",
    "\n",
    "\tdef on_validation_epoch_end(self):\n",
    "\t\tloss = sum(self.val_losses) / len(self.val_losses)\n",
    "\t\tprint(f'Epoch {self.trainer.current_epoch} val loss:', loss)\n",
    "\n",
    "\tdef configure_optimizers(self):\n",
    "\t\t\treturn torch.optim.Adam(transformer.parameters(), lr=0.0001, betas=(0.9, 0.98), eps=1e-9)\n"
   ]
  },
  {
   "cell_type": "code",
   "execution_count": 39,
   "metadata": {},
   "outputs": [
    {
     "name": "stderr",
     "output_type": "stream",
     "text": [
      "GPU available: True (cuda), used: True\n",
      "TPU available: False, using: 0 TPU cores\n",
      "IPU available: False, using: 0 IPUs\n",
      "HPU available: False, using: 0 HPUs\n"
     ]
    }
   ],
   "source": [
    "from torch.utils.data import DataLoader\n",
    "\n",
    "train_iter = Multi30k(split='train', language_pair=(SRC_LANGUAGE, TGT_LANGUAGE))\n",
    "val_iter = Multi30k(split='valid', language_pair=(SRC_LANGUAGE, TGT_LANGUAGE))\n",
    "train_dl = DataLoader(train_iter, batch_size=BATCH_SIZE, collate_fn=collate_fn)\n",
    "val_dl = DataLoader(val_iter, batch_size=BATCH_SIZE, collate_fn=collate_fn)\n",
    "\n",
    "trainer = pl.Trainer(accelerator='gpu', devices=1)"
   ]
  },
  {
   "cell_type": "code",
   "execution_count": 40,
   "metadata": {},
   "outputs": [],
   "source": [
    "SRC_VOCAB_SIZE = len(vocab_transform[SRC_LANGUAGE])\n",
    "TGT_VOCAB_SIZE = len(vocab_transform[TGT_LANGUAGE])\n",
    "\n",
    "EMB_SIZE = 512\n",
    "NHEAD = 8\n",
    "FFN_HID_DIM = 512\n",
    "BATCH_SIZE = 128\n",
    "NUM_ENCODER_LAYERS = 3\n",
    "NUM_DECODER_LAYERS = 3\n",
    "\n",
    "transformer = Seq2SeqTransformer(num_encoder_layers=NUM_ENCODER_LAYERS,\n",
    "                                 num_decoder_layers=NUM_DECODER_LAYERS,\n",
    "                                 emb_size=EMB_SIZE,\n",
    "                                 nhead=NHEAD,\n",
    "                                 src_vocab_size=SRC_VOCAB_SIZE,\n",
    "                                 tgt_vocab_size=TGT_VOCAB_SIZE,\n",
    "                                 dim_feedforward=FFN_HID_DIM,\n",
    "                                 dropout=0.1)\n",
    "\n",
    "transformer = Seq2SeqTransformerLNAuto(transformer)"
   ]
  },
  {
   "cell_type": "code",
   "execution_count": 41,
   "metadata": {},
   "outputs": [
    {
     "name": "stderr",
     "output_type": "stream",
     "text": [
      "LOCAL_RANK: 0 - CUDA_VISIBLE_DEVICES: [0]\n",
      "\n",
      "  | Name        | Type               | Params\n",
      "---------------------------------------------------\n",
      "0 | transformer | Seq2SeqTransformer | 38.7 M\n",
      "1 | criterion   | CrossEntropyLoss   | 0     \n",
      "---------------------------------------------------\n",
      "38.7 M    Trainable params\n",
      "0         Non-trainable params\n",
      "38.7 M    Total params\n",
      "154.762   Total estimated model params size (MB)\n"
     ]
    },
    {
     "data": {
      "application/vnd.jupyter.widget-view+json": {
       "model_id": "72cb495508cb4e6291ee128f2d2a90c8",
       "version_major": 2,
       "version_minor": 0
      },
      "text/plain": [
       "Sanity Checking: 0it [00:00, ?it/s]"
      ]
     },
     "metadata": {},
     "output_type": "display_data"
    },
    {
     "name": "stdout",
     "output_type": "stream",
     "text": [
      "Epoch 0 val loss: tensor(9.4906, device='cuda:0')\n"
     ]
    },
    {
     "data": {
      "application/vnd.jupyter.widget-view+json": {
       "model_id": "f2e676fa5c0e4d1eb4514fe7d3bf1006",
       "version_major": 2,
       "version_minor": 0
      },
      "text/plain": [
       "Training: 0it [00:00, ?it/s]"
      ]
     },
     "metadata": {},
     "output_type": "display_data"
    },
    {
     "name": "stderr",
     "output_type": "stream",
     "text": [
      "/home/chen/Desktop/ML/Transformer/transformer/lib/python3.11/site-packages/torch/utils/data/datapipes/iter/combining.py:297: UserWarning: Some child DataPipes are not exhausted when __iter__ is called. We are resetting the buffer and each child DataPipe will read from the start again.\n",
      "  warnings.warn(\"Some child DataPipes are not exhausted when __iter__ is called. We are resetting \"\n"
     ]
    },
    {
     "data": {
      "application/vnd.jupyter.widget-view+json": {
       "model_id": "4fcb8c3ef665496e88cb42e56c84f861",
       "version_major": 2,
       "version_minor": 0
      },
      "text/plain": [
       "Validation: 0it [00:00, ?it/s]"
      ]
     },
     "metadata": {},
     "output_type": "display_data"
    },
    {
     "name": "stdout",
     "output_type": "stream",
     "text": [
      "Epoch 0 val loss: tensor(3.9061, device='cuda:0')\n",
      "Epoch 0 train loss: tensor(4.9814, device='cuda:0', grad_fn=<DivBackward0>)\n"
     ]
    },
    {
     "data": {
      "application/vnd.jupyter.widget-view+json": {
       "model_id": "8dd0dda01dfb43cfba15a3dc873a44d1",
       "version_major": 2,
       "version_minor": 0
      },
      "text/plain": [
       "Validation: 0it [00:00, ?it/s]"
      ]
     },
     "metadata": {},
     "output_type": "display_data"
    },
    {
     "name": "stdout",
     "output_type": "stream",
     "text": [
      "Epoch 1 val loss: tensor(3.3512, device='cuda:0')\n",
      "Epoch 1 train loss: tensor(3.6727, device='cuda:0', grad_fn=<DivBackward0>)\n"
     ]
    },
    {
     "data": {
      "application/vnd.jupyter.widget-view+json": {
       "model_id": "479d42b2dce843d09d21262063aca0ca",
       "version_major": 2,
       "version_minor": 0
      },
      "text/plain": [
       "Validation: 0it [00:00, ?it/s]"
      ]
     },
     "metadata": {},
     "output_type": "display_data"
    },
    {
     "name": "stdout",
     "output_type": "stream",
     "text": [
      "Epoch 2 val loss: tensor(3.0381, device='cuda:0')\n",
      "Epoch 2 train loss: tensor(3.2213, device='cuda:0', grad_fn=<DivBackward0>)\n"
     ]
    },
    {
     "data": {
      "application/vnd.jupyter.widget-view+json": {
       "model_id": "ace340f067aa493ca2fd602d32f74fb0",
       "version_major": 2,
       "version_minor": 0
      },
      "text/plain": [
       "Validation: 0it [00:00, ?it/s]"
      ]
     },
     "metadata": {},
     "output_type": "display_data"
    },
    {
     "name": "stdout",
     "output_type": "stream",
     "text": [
      "Epoch 3 val loss: tensor(2.8416, device='cuda:0')\n",
      "Epoch 3 train loss: tensor(2.9216, device='cuda:0', grad_fn=<DivBackward0>)\n"
     ]
    },
    {
     "data": {
      "application/vnd.jupyter.widget-view+json": {
       "model_id": "d42835fd21744cd8b91b4d296fffadd4",
       "version_major": 2,
       "version_minor": 0
      },
      "text/plain": [
       "Validation: 0it [00:00, ?it/s]"
      ]
     },
     "metadata": {},
     "output_type": "display_data"
    },
    {
     "name": "stdout",
     "output_type": "stream",
     "text": [
      "Epoch 4 val loss: tensor(2.6962, device='cuda:0')\n",
      "Epoch 4 train loss: tensor(2.6964, device='cuda:0', grad_fn=<DivBackward0>)\n"
     ]
    },
    {
     "data": {
      "application/vnd.jupyter.widget-view+json": {
       "model_id": "a0aee1e575e8405692173d3544c88669",
       "version_major": 2,
       "version_minor": 0
      },
      "text/plain": [
       "Validation: 0it [00:00, ?it/s]"
      ]
     },
     "metadata": {},
     "output_type": "display_data"
    },
    {
     "name": "stdout",
     "output_type": "stream",
     "text": [
      "Epoch 5 val loss: tensor(2.5851, device='cuda:0')\n",
      "Epoch 5 train loss: tensor(2.5159, device='cuda:0', grad_fn=<DivBackward0>)\n"
     ]
    },
    {
     "data": {
      "application/vnd.jupyter.widget-view+json": {
       "model_id": "b7b7f3c19b07470c98e26e6b550a471a",
       "version_major": 2,
       "version_minor": 0
      },
      "text/plain": [
       "Validation: 0it [00:00, ?it/s]"
      ]
     },
     "metadata": {},
     "output_type": "display_data"
    },
    {
     "name": "stdout",
     "output_type": "stream",
     "text": [
      "Epoch 6 val loss: tensor(2.4983, device='cuda:0')\n",
      "Epoch 6 train loss: tensor(2.3624, device='cuda:0', grad_fn=<DivBackward0>)\n"
     ]
    },
    {
     "data": {
      "application/vnd.jupyter.widget-view+json": {
       "model_id": "d9babcc8653845349eba3d445cf6b860",
       "version_major": 2,
       "version_minor": 0
      },
      "text/plain": [
       "Validation: 0it [00:00, ?it/s]"
      ]
     },
     "metadata": {},
     "output_type": "display_data"
    },
    {
     "name": "stdout",
     "output_type": "stream",
     "text": [
      "Epoch 7 val loss: tensor(2.4204, device='cuda:0')\n",
      "Epoch 7 train loss: tensor(2.2258, device='cuda:0', grad_fn=<DivBackward0>)\n"
     ]
    },
    {
     "data": {
      "application/vnd.jupyter.widget-view+json": {
       "model_id": "bb73afadf82e4b24b1ad5348b034a273",
       "version_major": 2,
       "version_minor": 0
      },
      "text/plain": [
       "Validation: 0it [00:00, ?it/s]"
      ]
     },
     "metadata": {},
     "output_type": "display_data"
    },
    {
     "name": "stdout",
     "output_type": "stream",
     "text": [
      "Epoch 8 val loss: tensor(2.3698, device='cuda:0')\n",
      "Epoch 8 train loss: tensor(2.1035, device='cuda:0', grad_fn=<DivBackward0>)\n"
     ]
    },
    {
     "data": {
      "application/vnd.jupyter.widget-view+json": {
       "model_id": "0513d492eb234e88aa29ce3d60dbe446",
       "version_major": 2,
       "version_minor": 0
      },
      "text/plain": [
       "Validation: 0it [00:00, ?it/s]"
      ]
     },
     "metadata": {},
     "output_type": "display_data"
    },
    {
     "name": "stdout",
     "output_type": "stream",
     "text": [
      "Epoch 9 val loss: tensor(2.3168, device='cuda:0')\n",
      "Epoch 9 train loss: tensor(1.9952, device='cuda:0', grad_fn=<DivBackward0>)\n"
     ]
    },
    {
     "data": {
      "application/vnd.jupyter.widget-view+json": {
       "model_id": "d533de4197c4488ead3ea774e473e652",
       "version_major": 2,
       "version_minor": 0
      },
      "text/plain": [
       "Validation: 0it [00:00, ?it/s]"
      ]
     },
     "metadata": {},
     "output_type": "display_data"
    },
    {
     "name": "stdout",
     "output_type": "stream",
     "text": [
      "Epoch 10 val loss: tensor(2.2725, device='cuda:0')\n",
      "Epoch 10 train loss: tensor(1.8943, device='cuda:0', grad_fn=<DivBackward0>)\n"
     ]
    },
    {
     "data": {
      "application/vnd.jupyter.widget-view+json": {
       "model_id": "3164f88e31ba4c7a8b14576c1337714c",
       "version_major": 2,
       "version_minor": 0
      },
      "text/plain": [
       "Validation: 0it [00:00, ?it/s]"
      ]
     },
     "metadata": {},
     "output_type": "display_data"
    },
    {
     "name": "stdout",
     "output_type": "stream",
     "text": [
      "Epoch 11 val loss: tensor(2.2396, device='cuda:0')\n",
      "Epoch 11 train loss: tensor(1.7968, device='cuda:0', grad_fn=<DivBackward0>)\n"
     ]
    },
    {
     "data": {
      "application/vnd.jupyter.widget-view+json": {
       "model_id": "1a3b61a731a64cc99390a9a186fe13ee",
       "version_major": 2,
       "version_minor": 0
      },
      "text/plain": [
       "Validation: 0it [00:00, ?it/s]"
      ]
     },
     "metadata": {},
     "output_type": "display_data"
    },
    {
     "name": "stdout",
     "output_type": "stream",
     "text": [
      "Epoch 12 val loss: tensor(2.2187, device='cuda:0')\n",
      "Epoch 12 train loss: tensor(1.7091, device='cuda:0', grad_fn=<DivBackward0>)\n"
     ]
    },
    {
     "data": {
      "application/vnd.jupyter.widget-view+json": {
       "model_id": "410896d998e240908324a1b9eef73472",
       "version_major": 2,
       "version_minor": 0
      },
      "text/plain": [
       "Validation: 0it [00:00, ?it/s]"
      ]
     },
     "metadata": {},
     "output_type": "display_data"
    },
    {
     "name": "stdout",
     "output_type": "stream",
     "text": [
      "Epoch 13 val loss: tensor(2.1948, device='cuda:0')\n",
      "Epoch 13 train loss: tensor(1.6268, device='cuda:0', grad_fn=<DivBackward0>)\n"
     ]
    },
    {
     "data": {
      "application/vnd.jupyter.widget-view+json": {
       "model_id": "fc67d060a04d40d18b1b3a87ba59bff1",
       "version_major": 2,
       "version_minor": 0
      },
      "text/plain": [
       "Validation: 0it [00:00, ?it/s]"
      ]
     },
     "metadata": {},
     "output_type": "display_data"
    },
    {
     "name": "stdout",
     "output_type": "stream",
     "text": [
      "Epoch 14 val loss: tensor(2.1743, device='cuda:0')\n",
      "Epoch 14 train loss: tensor(1.5528, device='cuda:0', grad_fn=<DivBackward0>)\n"
     ]
    },
    {
     "data": {
      "application/vnd.jupyter.widget-view+json": {
       "model_id": "118487f593a04413a4266ab31ed4576a",
       "version_major": 2,
       "version_minor": 0
      },
      "text/plain": [
       "Validation: 0it [00:00, ?it/s]"
      ]
     },
     "metadata": {},
     "output_type": "display_data"
    },
    {
     "name": "stdout",
     "output_type": "stream",
     "text": [
      "Epoch 15 val loss: tensor(2.1648, device='cuda:0')\n",
      "Epoch 15 train loss: tensor(1.4763, device='cuda:0', grad_fn=<DivBackward0>)\n"
     ]
    },
    {
     "data": {
      "application/vnd.jupyter.widget-view+json": {
       "model_id": "a449cbaac0724c72a71cfae84979e5d9",
       "version_major": 2,
       "version_minor": 0
      },
      "text/plain": [
       "Validation: 0it [00:00, ?it/s]"
      ]
     },
     "metadata": {},
     "output_type": "display_data"
    },
    {
     "name": "stdout",
     "output_type": "stream",
     "text": [
      "Epoch 16 val loss: tensor(2.1540, device='cuda:0')\n",
      "Epoch 16 train loss: tensor(1.4031, device='cuda:0', grad_fn=<DivBackward0>)\n"
     ]
    },
    {
     "data": {
      "application/vnd.jupyter.widget-view+json": {
       "model_id": "daea75a10ef84e9eaf45706d044f565e",
       "version_major": 2,
       "version_minor": 0
      },
      "text/plain": [
       "Validation: 0it [00:00, ?it/s]"
      ]
     },
     "metadata": {},
     "output_type": "display_data"
    },
    {
     "name": "stdout",
     "output_type": "stream",
     "text": [
      "Epoch 17 val loss: tensor(2.1269, device='cuda:0')\n",
      "Epoch 17 train loss: tensor(1.3399, device='cuda:0', grad_fn=<DivBackward0>)\n"
     ]
    },
    {
     "data": {
      "application/vnd.jupyter.widget-view+json": {
       "model_id": "78f5570fd27248ffb84356227e7ce5f3",
       "version_major": 2,
       "version_minor": 0
      },
      "text/plain": [
       "Validation: 0it [00:00, ?it/s]"
      ]
     },
     "metadata": {},
     "output_type": "display_data"
    },
    {
     "name": "stdout",
     "output_type": "stream",
     "text": [
      "Epoch 18 val loss: tensor(2.1246, device='cuda:0')\n",
      "Epoch 18 train loss: tensor(1.2728, device='cuda:0', grad_fn=<DivBackward0>)\n"
     ]
    },
    {
     "data": {
      "application/vnd.jupyter.widget-view+json": {
       "model_id": "d03c77f9224e4ca587dd03a3ea37fc11",
       "version_major": 2,
       "version_minor": 0
      },
      "text/plain": [
       "Validation: 0it [00:00, ?it/s]"
      ]
     },
     "metadata": {},
     "output_type": "display_data"
    },
    {
     "name": "stdout",
     "output_type": "stream",
     "text": [
      "Epoch 19 val loss: tensor(2.1210, device='cuda:0')\n",
      "Epoch 19 train loss: tensor(1.2081, device='cuda:0', grad_fn=<DivBackward0>)\n"
     ]
    },
    {
     "data": {
      "application/vnd.jupyter.widget-view+json": {
       "model_id": "1cb4f85c2ba84f42becc81f540d2c2c1",
       "version_major": 2,
       "version_minor": 0
      },
      "text/plain": [
       "Validation: 0it [00:00, ?it/s]"
      ]
     },
     "metadata": {},
     "output_type": "display_data"
    },
    {
     "name": "stdout",
     "output_type": "stream",
     "text": [
      "Epoch 20 val loss: tensor(2.1135, device='cuda:0')\n",
      "Epoch 20 train loss: tensor(1.1469, device='cuda:0', grad_fn=<DivBackward0>)\n"
     ]
    },
    {
     "data": {
      "application/vnd.jupyter.widget-view+json": {
       "model_id": "f3462381ef9b4b448f5f305d1da679a1",
       "version_major": 2,
       "version_minor": 0
      },
      "text/plain": [
       "Validation: 0it [00:00, ?it/s]"
      ]
     },
     "metadata": {},
     "output_type": "display_data"
    },
    {
     "name": "stdout",
     "output_type": "stream",
     "text": [
      "Epoch 21 val loss: tensor(2.1197, device='cuda:0')\n",
      "Epoch 21 train loss: tensor(1.0881, device='cuda:0', grad_fn=<DivBackward0>)\n"
     ]
    },
    {
     "name": "stderr",
     "output_type": "stream",
     "text": [
      "/home/chen/Desktop/ML/Transformer/transformer/lib/python3.11/site-packages/pytorch_lightning/trainer/call.py:52: UserWarning: Detected KeyboardInterrupt, attempting graceful shutdown...\n",
      "  rank_zero_warn(\"Detected KeyboardInterrupt, attempting graceful shutdown...\")\n"
     ]
    }
   ],
   "source": [
    "trainer.fit(transformer, train_dl, val_dl)"
   ]
  },
  {
   "attachments": {},
   "cell_type": "markdown",
   "metadata": {},
   "source": [
    "## My Own Model"
   ]
  },
  {
   "cell_type": "code",
   "execution_count": 361,
   "metadata": {},
   "outputs": [],
   "source": [
    "import torch\n",
    "import torch.nn as nn\n",
    "from torch.nn import functional as F\n",
    "from torch.utils.checkpoint import checkpoint\n",
    "from torch import Tensor\n",
    "from typing import *\n",
    "import pytorch_lightning as pl\n",
    "import sentencepiece as sp\n",
    "import math\n",
    "\n",
    "GPU = torch.device('cuda')\n",
    "\n",
    "import torch\n",
    "from torch import Tensor\n",
    "from torch import nn\n",
    "\n",
    "class PositionalEmbedding(nn.Module):\n",
    "\t''' Sinosuidal positional embedding. '''\n",
    "\n",
    "\tdef __init__(self, emb_dim: int, max_len: int):\n",
    "\t\tsuper().__init__()\n",
    "\n",
    "\t\tencoding = torch.zeros(max_len + 2, emb_dim, requires_grad=False)\n",
    "\t\tpos = torch.arange(0.0, max_len + 2, dtype=torch.float).unsqueeze(dim=1)\n",
    "\t\t_2i = torch.arange(0, emb_dim, step=2).float()\n",
    "\n",
    "\t\tencoding[:, 0::2] = torch.sin(pos / (10000 ** (_2i / emb_dim)))\n",
    "\t\tencoding[:, 1::2] = torch.cos(pos / (10000 ** (_2i / emb_dim)))\n",
    "\n",
    "\t\tself.register_buffer('encoding', encoding)\n",
    "\n",
    "\tdef forward(self, x: Tensor):\n",
    "\t\treturn self.encoding[:x.size(0)]\n",
    "\n",
    "class PosNTokEmbedding(nn.Module):\n",
    "\t''' Apply learnable token and sinosuidal position embeddings to input tokens. '''\n",
    "\n",
    "\tdef __init__(self, vocab_size: int, emb_dim: int, max_len: int):\n",
    "\t\tsuper().__init__()\n",
    "\t\tself.token_embedding_table = nn.Embedding(vocab_size, emb_dim)\n",
    "\t\tself.position_embedding_table = PositionalEmbedding(emb_dim, max_len)\n",
    "\t\tself.max_len = max_len\n",
    "\t\n",
    "\tdef forward(self, x: Tensor):\n",
    "\t\ttok_embd = self.token_embedding_table(x)\n",
    "\t\tpos_embd = self.position_embedding_table(torch.arange(x.size(1), device=x.device))\n",
    "\t\treturn tok_embd + pos_embd\n",
    "\t\n",
    "import torch\n",
    "from torch import nn\n",
    "from torch import Tensor\n",
    "import math\n",
    "\n",
    "class MultiHeadSelfAttention(nn.Module):\n",
    "\n",
    "\t''' Multi-head self attention.\n",
    "\tImplements a somewhat optimized version of the self attention by combining the q, k, v projections.\n",
    "\t\n",
    "\tInputs:\n",
    "\t\t`x`: Tensor<Float>[B, T, C] input tensor.\n",
    "\t\t`tok_mask`: Tensor<Bool>[B, T] per-token mask applied to the `x`, false is masked out, true is preserved - masks both keys and queries.\n",
    "\n",
    "\tOutputs:\n",
    "\t\tTensor<Float>[B, T, C] output tensor.\n",
    "\t'''\n",
    "\n",
    "\tdef __init__(self, n_heads: int, emb_dim: int, dropout: float, bias: bool = False, is_causal: bool = False):\n",
    "\t\tsuper().__init__()\n",
    "\t\tself.is_causal = is_causal\n",
    "\t\tself.n_heads = n_heads\n",
    "\t\tself.emb_dim = emb_dim\n",
    "\t\tself.attn_dropout = nn.Dropout(dropout)\n",
    "\t\tself.resid_dropout = nn.Dropout(dropout)\n",
    "\t\t# combine q, k, v projections for efficiency\n",
    "\t\tself.qkv_projection = nn.Linear(emb_dim, 3 * emb_dim, bias=bias)\n",
    "\t\t# output projection\n",
    "\t\tself.c_proj = nn.Linear(emb_dim, emb_dim, bias=bias)\n",
    "\n",
    "\tdef forward(self, x: Tensor, tok_mask: Tensor):\n",
    "\t\tB, T, C = x.shape\n",
    "\t\t# proj q, k, v for all heads\n",
    "\t\t# the heads are treated as a batch dimension\n",
    "\t\tq, k, v = self.qkv_projection(x).split(self.emb_dim, dim=2)\n",
    "\t\tq = q.view(B, T, self.n_heads, C // self.n_heads).transpose(1, 2)\n",
    "\t\tk = k.view(B, T, self.n_heads, C // self.n_heads).transpose(1, 2)\n",
    "\t\tv = v.view(B, T, self.n_heads, C // self.n_heads).transpose(1, 2)\n",
    "\t\t# compute attention\n",
    "\t\tatt_weights = (q @ k.transpose(-2, -1)) / math.sqrt(k.size(-1))\n",
    "\t\tmask = tok_mask.view(B, 1, T) # (B, 1, T)\n",
    "\t\tmask = mask.tile(1, T, 1) # (B, T, T)\n",
    "\t\tmask = mask & mask.transpose(-2, -1) # (B, T, T)\n",
    "\t\tmask = mask.view(B, 1, T, T) # (B, 1, T, T)\n",
    "\t\tif self.is_causal:\n",
    "\t\t\tcausal_mask = torch.tril(torch.ones(T, T, dtype=torch.bool, device=x.device))\n",
    "\t\t\tmask = mask & causal_mask[None, None, :, :]\n",
    "\t\tatt_weights = att_weights.masked_fill(mask == 0, -1e9)\n",
    "\t\tatt_weights = nn.functional.softmax(att_weights, dim=-1)\n",
    "\t\tatt_weights = self.attn_dropout(att_weights)\n",
    "\t\ty = att_weights @ v\n",
    "\t\t# combine heads\n",
    "\t\ty = y.transpose(1, 2).contiguous().view(B, T, C)\n",
    "\t\ty = self.resid_dropout(self.c_proj(y))\n",
    "\t\treturn y\n",
    "\n",
    "class MultiHeadCrossAttention(nn.Module):\n",
    "\n",
    "\t''' Multi-head cross attention.\n",
    "\tImplements a somewhat optimized version of the cross attention by combining the k, v projections.\n",
    "\t\n",
    "\tInputs:\n",
    "\t\t`x_q`: Tensor<Float>[B, T_q, C] query input tensor.\n",
    "\t\t`x_kv`: Tensor<Float>[B, T_kv, C] key and value input tensor.\n",
    "\t\t`q_tok_mask`: Tensor<Bool>[B, T_q] mask applied to the `x_q`, false is masked out, true is preserved - applies to q only.\n",
    "\t\t`kv_tok_mask`: Tensor<Bool>[B, T_kv] mask applied to the `x_kv`, false is masked out, true is preserved - applies to k and v.\n",
    "\n",
    "\tOutputs:\n",
    "\t\tTensor<Float>[B, T_q, C] output tensor.\n",
    "\t'''\n",
    "\n",
    "\tdef __init__(self, n_heads: int, emb_dim: int, dropout: float, bias: bool = False):\n",
    "\t\tsuper().__init__()\n",
    "\t\tself.n_heads = n_heads\n",
    "\t\tself.emb_dim = emb_dim\n",
    "\t\tself.attn_dropout = nn.Dropout(dropout)\n",
    "\t\tself.resid_dropout = nn.Dropout(dropout)\n",
    "\t\tself.q_projection = nn.Linear(emb_dim, emb_dim, bias=bias)\n",
    "\t\t# combine k, v projections for efficiency\n",
    "\t\tself.kv_projection = nn.Linear(emb_dim, 2 * emb_dim, bias=bias)\n",
    "\t\t# output projection\n",
    "\t\tself.c_proj = nn.Linear(emb_dim, emb_dim, bias=bias)\n",
    "\n",
    "\tdef forward(self, x_q: Tensor, x_kv: Tensor, q_tok_mask: Tensor, kv_tok_mask: Tensor):\n",
    "\t\t# proj query for all heads\n",
    "\t\tB, T_q, C = x_q.shape\n",
    "\t\tq = self.q_projection(x_q)\n",
    "\t\tq = q.view(B, T_q, self.n_heads, C // self.n_heads).transpose(1, 2)\n",
    "\t\t# proj key & value for all heads\n",
    "\t\tB, T_kv, C = x_kv.shape\n",
    "\t\tk, v = self.kv_projection(x_kv).split(self.emb_dim, dim=2)\n",
    "\t\tk = k.view(B, T_kv, self.n_heads, C // self.n_heads).transpose(1, 2)\n",
    "\t\tv = v.view(B, T_kv, self.n_heads, C // self.n_heads).transpose(1, 2)\n",
    "\t\t# compute attention\n",
    "\t\tatt_weights = (q @ k.transpose(-2, -1)) / math.sqrt(k.size(-1))\n",
    "\t\t# merge masks\n",
    "\t\tq_tok_mask = q_tok_mask.unsqueeze(2) # (N, T_q, 1)\n",
    "\t\tkv_tok_mask = kv_tok_mask.unsqueeze(1) # (N, 1, T_kv)\n",
    "\t\tattn_mask = q_tok_mask & kv_tok_mask\n",
    "\t\t# apply mask\n",
    "\t\tatt_weights = att_weights.masked_fill(attn_mask.unsqueeze(1) == 0, -1e9)\n",
    "\t\tatt_weights = nn.functional.softmax(att_weights, dim=-1)\n",
    "\t\tatt_weights = self.attn_dropout(att_weights)\n",
    "\t\ty = att_weights @ v\n",
    "\t\t# combine heads\n",
    "\t\ty = y.transpose(1, 2).contiguous().view(B, T_q, C)\n",
    "\t\ty = self.resid_dropout(self.c_proj(y))\n",
    "\t\treturn y\n",
    "\n",
    "import torch\n",
    "from torch import nn\n",
    "from torch import Tensor\n",
    "from torch.utils.checkpoint import checkpoint\n",
    "from importlib import import_module\n",
    "\n",
    "class TransformerFeedFoward(nn.Module):\n",
    "\n",
    "\tdef __init__(self, emb_dim: int, dropout: float):\n",
    "\t\tsuper().__init__()\n",
    "\t\tself.net = nn.Sequential(\n",
    "\t\t\tnn.Linear(emb_dim, 4 * emb_dim),\n",
    "\t\t\tnn.GELU(approximate='tanh'),\n",
    "\t\t\tnn.Linear(4 * emb_dim, emb_dim),\n",
    "\t\t)\n",
    "\t\tif dropout:\n",
    "\t\t\tself.net.append(nn.Dropout(dropout))\n",
    "\n",
    "\tdef forward(self, x: Tensor):\n",
    "\t\treturn self.net(x)\n",
    "\n",
    "class TransformerEncoderBlock(nn.Module):\n",
    "\n",
    "\tdef __init__(self, n_heads: int, emb_dim: int, dropout: float, bias: bool = False, attention_type: str = 'vanilla'):\n",
    "\t\tsuper().__init__()\n",
    "\t\tsa_class = MultiHeadSelfAttention\n",
    "\t\tself.sa_module = sa_class(n_heads, emb_dim, dropout, bias)\n",
    "\t\tself.fw_module = TransformerFeedFoward(emb_dim, dropout)\n",
    "\t\tself.ln1 = nn.LayerNorm(emb_dim)\n",
    "\t\tself.ln2 = nn.LayerNorm(emb_dim)\n",
    "\n",
    "\t\n",
    "\tdef forward(self, src: Tensor, src_mask: Tensor):\n",
    "\t\tx = src + self.sa_module(self.ln1(src), src_mask)\n",
    "\t\tx = x + self.fw_module(self.ln2(src))\n",
    "\t\treturn x\n",
    "\n",
    "class TransformerEncoder(nn.Module):\n",
    "\n",
    "\tdef __init__(self, n_blocks: int, n_heads: int, emb_dim: int, dropout: float, bias: bool = False, use_grad_ckpt: bool = False, attention_type: str = 'vanilla'):\n",
    "\t\tsuper().__init__()\n",
    "\t\tself.blocks = nn.ModuleList([TransformerEncoderBlock(n_heads, emb_dim, dropout, bias, attention_type) for _ in range(n_blocks)])\n",
    "\t\tself.use_grad_ckpt = use_grad_ckpt\n",
    "\t\n",
    "\tdef forward(self, src: Tensor, src_mask: Tensor):\n",
    "\t\tx = src\n",
    "\t\tfor block in self.blocks:\n",
    "\t\t\tif self.use_grad_ckpt:\n",
    "\t\t\t\tforward = lambda *inputs: block(*inputs)\n",
    "\t\t\t\tx = checkpoint(forward, x, src_mask, preserve_rng_state=False)\n",
    "\t\t\telse:\n",
    "\t\t\t\tx = block(x, src_mask)\n",
    "\t\treturn x\n",
    "\n",
    "class TransformerDecoderBlock(nn.Module):\n",
    "\n",
    "\tdef __init__(self, n_heads: int, emb_dim: int, dropout: float, bias: bool = False, attention_type: str = 'vanilla'):\n",
    "\t\tsuper().__init__()\n",
    "\t\tsa_class = MultiHeadSelfAttention\n",
    "\t\tca_class = MultiHeadCrossAttention\n",
    "\t\tself.sa_module = sa_class(n_heads, emb_dim, dropout, bias, is_causal=True)\n",
    "\t\tself.ca_module = ca_class(n_heads, emb_dim, dropout, bias)\n",
    "\t\tself.fw_module = TransformerFeedFoward(emb_dim, dropout)\n",
    "\t\tself.ln1 = nn.LayerNorm(emb_dim)\n",
    "\t\tself.ln2 = nn.LayerNorm(emb_dim)\n",
    "\t\tself.ln3 = nn.LayerNorm(emb_dim)\n",
    "\t\n",
    "\tdef forward(self, src: Tensor, tgt: Tensor, src_mask: Tensor, tgt_mask: Tensor):\n",
    "\t\tx = tgt + self.sa_module(self.ln1(tgt), tgt_mask)\n",
    "\t\tx = x + self.ca_module(self.ln2(tgt), self.ln2(src), tgt_mask, src_mask)\n",
    "\t\tx = x + self.fw_module(self.ln3(x))\n",
    "\t\treturn x\n",
    "\n",
    "class TransformerDecoder(nn.Module):\n",
    "\n",
    "\tdef __init__(self, n_blocks: int, n_heads: int, emb_dim: int, dropout: float, bias: bool = False, use_grad_ckpt: bool = False, attention_type: str = 'vanilla'):\n",
    "\t\tsuper().__init__()\n",
    "\t\tself.blocks = nn.ModuleList([TransformerDecoderBlock(n_heads, emb_dim, dropout, bias, attention_type) for _ in range(n_blocks)])\n",
    "\t\tself.use_grad_ckpt = use_grad_ckpt\n",
    "\t\n",
    "\tdef forward(self, src: Tensor, tgt: Tensor, src_mask: Tensor, tgt_mask: Tensor):\n",
    "\t\tx = tgt\n",
    "\t\tfor block in self.blocks:\n",
    "\t\t\tif self.use_grad_ckpt:\n",
    "\t\t\t\tforward = lambda *inputs: block(*inputs)\n",
    "\t\t\t\tx = checkpoint(forward, src, x, src_mask, tgt_mask, preserve_rng_state=False)\n",
    "\t\t\telse:\n",
    "\t\t\t\tx = block(src, x, src_mask, tgt_mask)\n",
    "\t\treturn x\n",
    "\n",
    "class TransformerLMHead(nn.Module):\n",
    "\n",
    "\tdef __init__(self, emb_dim: int, tgt_vocab_size: int):\n",
    "\t\tsuper().__init__()\n",
    "\t\tself.ln = nn.LayerNorm(emb_dim)\n",
    "\t\tself.logits_head = nn.Linear(emb_dim, tgt_vocab_size, bias=False)\n",
    "\t\n",
    "\tdef forward(self, x: Tensor):\n",
    "\t\tx = self.ln(x)\n",
    "\t\tx = self.logits_head(x)\n",
    "\t\treturn x\n",
    "import torch\n",
    "import torch.nn as nn\n",
    "from torch.nn import functional as F\n",
    "from torch import Tensor\n",
    "import pytorch_lightning as pl\n",
    "from dataclasses import dataclass\n",
    "from pytorch_lightning.utilities import grad_norm\n",
    "\n",
    "### CONFIG ###\n",
    "\n",
    "@dataclass\n",
    "class TransformerConfig:\n",
    "    max_len: int\n",
    "    src_vocab_size: int\n",
    "    tgt_vocab_size: int\n",
    "    n_blocks: int\n",
    "    n_heads: int\n",
    "    emb_dim: int\n",
    "    dropout: float\n",
    "    bias: bool\n",
    "    weight_tying: bool\n",
    "    use_grad_ckpt: bool\n",
    "    pad_index: int\n",
    "    optimizer: str\n",
    "    learning_rate: float\n",
    "    attention_type: str = 'vanilla'\n",
    "\n",
    "### INPUT ###\n",
    "\n",
    "@dataclass\n",
    "class TransformerInputBatch:\n",
    "\t''' A batch of training data for the Transformer model. '''\n",
    "\tx_src: torch.Tensor\n",
    "\tx_tgt: torch.Tensor\n",
    "\tx_src_mask: torch.Tensor\n",
    "\tx_tgt_mask: torch.Tensor\n",
    "\ty_tgt: torch.Tensor\n",
    "\n",
    "### MODEL ###\n",
    "\n",
    "class Transformer(pl.LightningModule):\n",
    "\n",
    "\tdef __init__(self, config: TransformerConfig):\n",
    "\t\tsuper().__init__()\n",
    "\t\tself.save_hyperparameters()\n",
    "\t\tself.config = config\n",
    "\t\tself.learning_rate = config.learning_rate\n",
    "\t\tself.attention_type = config.attention_type\n",
    "\t\tself.criterion = nn.CrossEntropyLoss(ignore_index=config.pad_index)\n",
    "\t\t# setup sample input for tracing\n",
    "\t\tself.example_input_array = (torch.zeros(1, config.max_len, dtype=torch.long),\n",
    "\t\t\t      \t\t\t\t\ttorch.zeros(1, config.max_len, dtype=torch.long),\n",
    "\t\t\t\t\t\t\t\t\ttorch.zeros(1, config.max_len, dtype=torch.long),\n",
    "\t\t\t\t\t\t\t\t\ttorch.zeros(1, config.max_len, dtype=torch.long))\n",
    "\t\t# model parts\n",
    "\t\tself.src_embeddings = PosNTokEmbedding(config.src_vocab_size, config.emb_dim, config.max_len)\n",
    "\t\tself.tgt_embeddings = PosNTokEmbedding(config.tgt_vocab_size, config.emb_dim, config.max_len)\n",
    "\t\tself.encoder = TransformerEncoder(config.n_blocks, config.n_heads, config.emb_dim, config.dropout, config.bias, config.use_grad_ckpt, config.attention_type)\n",
    "\t\tself.decoder = TransformerDecoder(config.n_blocks, config.n_heads, config.emb_dim, config.dropout, config.bias, config.use_grad_ckpt, config.attention_type)\n",
    "\t\tself.lm_head = TransformerLMHead(config.emb_dim, config.tgt_vocab_size)\n",
    "\t\t# weight tying\n",
    "\t\tif config.weight_tying:\n",
    "\t\t\tself.tgt_embeddings.token_embedding_table.weight = self.lm_head.logits_head.weight\n",
    "\n",
    "\tdef forward(self, src: Tensor, tgt: Tensor, src_tok_mask: Tensor, tgt_tok_mask: Tensor):\n",
    "\t\t''' Forward pass through the model.'''\n",
    "\t\tenc = self.encoder(self.src_embeddings(src), src_tok_mask)\n",
    "\t\tdec = self.decoder(enc, self.tgt_embeddings(tgt), src_tok_mask, tgt_tok_mask)\n",
    "\t\tlogits = self.lm_head(dec)\n",
    "\t\treturn logits\n",
    "\t\n",
    "\tdef calculate_loss(self, y_pred: Tensor, y_true: Tensor, prefix: str):\n",
    "\t\t''' Calculate and log loss for a batch of predictions.'''\n",
    "\t\tB, T = y_true.shape\n",
    "\t\tloss = self.criterion(y_pred.view(B * T, -1), y_true.reshape(B * T))\n",
    "\t\t# log the loss\n",
    "\t\treturn loss\n",
    "\n",
    "\tdef calculate_metrics(self, y_pred: Tensor, y_true: Tensor, prefix: str):\n",
    "\t\t''' Calculate and log [accuracy] for a batch of predictions.'''\n",
    "\t\tB, T = y_true.shape\n",
    "\t\t# flatten the tensors\n",
    "\t\ty_pred = y_pred.view(B * T, -1).argmax(dim=-1)\n",
    "\t\ty_true = y_true.reshape(B * T)\n",
    "\t\t# calculate the metrics\n",
    "\t\taccuracy = (y_pred == y_true).float().mean()\n",
    "\t\t# log the metrics\n",
    "\t\treturn {\n",
    "\t\t\tf'{prefix}_accuracy': accuracy\n",
    "\t\t}\n",
    "\n",
    "\tdef training_step(self, batch: TransformerInputBatch, batch_idx: int):\n",
    "\t\ty_pred = self(batch.x_src, batch.x_tgt, batch.x_src_mask, batch.x_tgt_mask)\n",
    "\t\tmetrics = self.calculate_metrics(y_pred, batch.y_tgt, 'train')\n",
    "\t\tmetrics['train_loss'] = self.calculate_loss(y_pred, batch.y_tgt, 'train')\n",
    "\t\tself.log_dict(metrics, prog_bar=True)\n",
    "\t\tself.train_losses.append(metrics['train_loss'])\n",
    "\t\treturn metrics['train_loss']\n",
    "\n",
    "\tdef validation_step(self, batch: TransformerInputBatch, batch_idx: int):\n",
    "\t\ty_pred = self(batch.x_src, batch.x_tgt, batch.x_src_mask, batch.x_tgt_mask)\n",
    "\t\tmetrics = self.calculate_metrics(y_pred, batch.y_tgt, 'val')\n",
    "\t\tmetrics['val_loss'] = self.calculate_loss(y_pred, batch.y_tgt, 'val')\n",
    "\t\tself.log_dict(metrics, prog_bar=True)\n",
    "\t\tself.val_losses.append(metrics['val_loss'])\n",
    "\t\treturn metrics['val_loss']\n",
    "\n",
    "\t#def test_step(self, batch: TransformerInputBatch, batch_idx: int):\n",
    "\t#\ty_pred = self(batch.x_src, batch.x_tgt, batch.x_src_mask, batch.x_tgt_mask)\n",
    "\t#\tself.calculate_metrics(y_pred, batch.y_tgt, 'test')\n",
    "\t#\treturn self.calculate_loss(y_pred, batch.y_tgt, 'test')\n",
    "\n",
    "\tdef on_before_optimizer_step(self, optimizer):\n",
    "\t\tnorms = grad_norm(self, 2)\n",
    "\t\tself.log_dict(norms)\n",
    "\t\n",
    "\t@torch.inference_mode()\n",
    "\tdef translate(self, src: Tensor, bos_idx: int, eos_idx: int, temperature: float = 1.0, max_new_tokens: int = 1000):\n",
    "\t\t''' Generator function that translates a source sentence into a target sentence.\n",
    "\t\t\n",
    "\t\tInput:\n",
    "\t\t\t`src`: Tensor<Float>[T_in] input src tensor.\n",
    "\t\t\n",
    "\t\tOutput:\n",
    "\t\t\tTensor<Float>[T_out] output tgt tensor.\n",
    "\t\t'''\n",
    "\t\t# put self into eval mode\n",
    "\t\tself.eval()\n",
    "\t\t# init inputs\n",
    "\t\tsrc = src.to(self.device).unsqueeze(0) # (1, T)\n",
    "\t\ttgt = torch.tensor([bos_idx], dtype=torch.long, device=self.device).unsqueeze(0) # (1, 1)\n",
    "\t\tsrc_mask = torch.ones_like(src, dtype=torch.bool, device=self.device)\n",
    "\t\tfor i in range(max_new_tokens):\n",
    "\t\t\t# update tgt mask\n",
    "\t\t\ttgt_mask = torch.ones_like(tgt, dtype=torch.bool, device=self.device)\n",
    "\t\t\t# get the predictions\n",
    "\t\t\tlogits = self(src[:, -self.config.max_len:], tgt[:, -self.config.max_len:], src_mask, tgt_mask) # (1, T, C)\n",
    "\t\t\t# focus only on the last time step\n",
    "\t\t\tlogits = logits[:, -1, :] #(1, C)\n",
    "\t\t\tlogits /= temperature\n",
    "\t\t\tprobs = F.softmax(logits, dim=-1)\n",
    "\t\t\t# sample from the distribution\n",
    "\t\t\tidx_next = torch.argmax(probs, dim=-1, keepdim=True) # (1, 1)\n",
    "\t\t\t# append sampled index to the running sequence\n",
    "\t\t\ttgt = torch.cat((tgt, idx_next), dim=1) # (1, T)\n",
    "\t\t\t# yield the current token\n",
    "\t\t\ttoken = int(idx_next[0].cpu().numpy())\n",
    "\t\t\t# print(f'{i}:', idx_next[0], token)\n",
    "\t\t\t# yield f'{idx_next[0]}: {token} \\n'\n",
    "\t\t\tyield token\n",
    "\t\t\t# stop if the last token is the EOS token\n",
    "\t\t\tif token == eos_idx:\n",
    "\t\t\t\tbreak\n",
    "\t\treturn tgt[0]\n",
    "\n",
    "\tdef on_train_epoch_start(self):\n",
    "\t\tself.train_losses = []\n",
    "\t\n",
    "\tdef on_validation_epoch_start(self):\n",
    "\t\tself.val_losses = []\n",
    "\t\n",
    "\tdef on_train_epoch_end(self):\n",
    "\t\tloss = sum(self.train_losses) / len(self.train_losses)\n",
    "\t\tprint(f'Epoch {self.trainer.current_epoch} train loss:', loss)\n",
    "\n",
    "\tdef on_validation_epoch_end(self):\n",
    "\t\tloss = sum(self.val_losses) / len(self.val_losses)\n",
    "\t\tprint(f'Epoch {self.trainer.current_epoch} val loss:', loss)\n",
    "\n",
    "\tdef configure_optimizers(self):\n",
    "\t\t\treturn torch.optim.Adam(self.parameters(), lr=0.0001, betas=(0.9, 0.98), eps=1e-9)"
   ]
  },
  {
   "cell_type": "code",
   "execution_count": 362,
   "metadata": {},
   "outputs": [],
   "source": [
    "@dataclass\n",
    "class TransformerInputBatch:\n",
    "\t''' A batch of training data for the Transformer model. '''\n",
    "\tx_src: torch.Tensor\n",
    "\tx_tgt: torch.Tensor\n",
    "\tx_src_mask: torch.Tensor\n",
    "\tx_tgt_mask: torch.Tensor\n",
    "\ty_tgt: torch.Tensor\n",
    "\n",
    "# function to collate data samples into batch tensors\n",
    "def collate_function(batch):\n",
    "    src_batch, tgt_batch = [], []\n",
    "    for src_sample, tgt_sample in batch:\n",
    "        src_batch.append(text_transform[SRC_LANGUAGE](src_sample.rstrip(\"\\n\")))\n",
    "        tgt_batch.append(text_transform[TGT_LANGUAGE](tgt_sample.rstrip(\"\\n\")))\n",
    "\n",
    "    src_batch = pad_sequence(src_batch, padding_value=PAD_IDX, batch_first=True)\n",
    "    tgt_batch = pad_sequence(tgt_batch, padding_value=PAD_IDX, batch_first=True)\n",
    "    return TransformerInputBatch(src_batch, tgt_batch[:, :-1], src_batch != PAD_IDX, tgt_batch[:, :-1] != PAD_IDX, tgt_batch[:, 1:])"
   ]
  },
  {
   "cell_type": "code",
   "execution_count": 369,
   "metadata": {},
   "outputs": [],
   "source": [
    "model_config = TransformerConfig(\n",
    "    max_len = 256,\n",
    "    src_vocab_size = SRC_VOCAB_SIZE,\n",
    "    tgt_vocab_size = TGT_VOCAB_SIZE,\n",
    "    n_blocks = 8,\n",
    "    n_heads = 8,\n",
    "    emb_dim = 512,\n",
    "    dropout = 0.1,\n",
    "    bias = False,\n",
    "    weight_tying = False,\n",
    "    use_grad_ckpt = False,\n",
    "    pad_index = PAD_IDX,\n",
    "    optimizer = 'AdamW',\n",
    "    learning_rate = 0.0001,\n",
    "    attention_type = 'vanilla')\n",
    "\n",
    "model = Transformer(model_config)"
   ]
  },
  {
   "cell_type": "code",
   "execution_count": 370,
   "metadata": {},
   "outputs": [
    {
     "name": "stderr",
     "output_type": "stream",
     "text": [
      "GPU available: True (cuda), used: True\n",
      "TPU available: False, using: 0 TPU cores\n",
      "IPU available: False, using: 0 IPUs\n",
      "HPU available: False, using: 0 HPUs\n"
     ]
    }
   ],
   "source": [
    "from torch.utils.data import DataLoader\n",
    "\n",
    "train_iter = Multi30k(split='train', language_pair=(SRC_LANGUAGE, TGT_LANGUAGE))\n",
    "val_iter = Multi30k(split='valid', language_pair=(SRC_LANGUAGE, TGT_LANGUAGE))\n",
    "train_dl = DataLoader(train_iter, batch_size=BATCH_SIZE, collate_fn=collate_function)\n",
    "val_dl = DataLoader(val_iter, batch_size=BATCH_SIZE, collate_fn=collate_function)\n",
    "\n",
    "trainer = pl.Trainer(accelerator='gpu', devices=1)"
   ]
  },
  {
   "cell_type": "code",
   "execution_count": 371,
   "metadata": {},
   "outputs": [
    {
     "name": "stderr",
     "output_type": "stream",
     "text": [
      "/home/chen/Desktop/ML/Transformer/transformer/lib/python3.11/site-packages/pytorch_lightning/loops/utilities.py:70: PossibleUserWarning: `max_epochs` was not set. Setting it to 1000 epochs. To train without an epoch limit, set `max_epochs=-1`.\n",
      "  rank_zero_warn(\n",
      "LOCAL_RANK: 0 - CUDA_VISIBLE_DEVICES: [0]\n",
      "\n",
      "  | Name           | Type               | Params | In sizes                                           | Out sizes      \n",
      "-----------------------------------------------------------------------------------------------------------------------------\n",
      "0 | criterion      | CrossEntropyLoss   | 0      | ?                                                  | ?              \n",
      "1 | src_embeddings | PosNTokEmbedding   | 9.8 M  | [1, 256]                                           | [1, 256, 512]  \n",
      "2 | tgt_embeddings | PosNTokEmbedding   | 5.5 M  | [1, 256]                                           | [1, 256, 512]  \n",
      "3 | encoder        | TransformerEncoder | 25.2 M | [[1, 256, 512], [1, 256]]                          | [1, 256, 512]  \n",
      "4 | decoder        | TransformerDecoder | 33.6 M | [[1, 256, 512], [1, 256, 512], [1, 256], [1, 256]] | [1, 256, 512]  \n",
      "5 | lm_head        | TransformerLMHead  | 5.5 M  | [1, 256, 512]                                      | [1, 256, 10837]\n",
      "-----------------------------------------------------------------------------------------------------------------------------\n",
      "79.7 M    Trainable params\n",
      "0         Non-trainable params\n",
      "79.7 M    Total params\n",
      "318.951   Total estimated model params size (MB)\n"
     ]
    },
    {
     "data": {
      "application/vnd.jupyter.widget-view+json": {
       "model_id": "1ceb1b1bebc24b2d95eca579bb51378e",
       "version_major": 2,
       "version_minor": 0
      },
      "text/plain": [
       "Sanity Checking: 0it [00:00, ?it/s]"
      ]
     },
     "metadata": {},
     "output_type": "display_data"
    },
    {
     "name": "stdout",
     "output_type": "stream",
     "text": [
      "Epoch 0 val loss: tensor(9.4134, device='cuda:0')\n"
     ]
    },
    {
     "name": "stderr",
     "output_type": "stream",
     "text": [
      "/home/chen/Desktop/ML/Transformer/transformer/lib/python3.11/site-packages/pytorch_lightning/trainer/connectors/data_connector.py:432: PossibleUserWarning: The dataloader, val_dataloader, does not have many workers which may be a bottleneck. Consider increasing the value of the `num_workers` argument` (try 16 which is the number of cpus on this machine) in the `DataLoader` init to improve performance.\n",
      "  rank_zero_warn(\n",
      "/home/chen/Desktop/ML/Transformer/transformer/lib/python3.11/site-packages/pytorch_lightning/trainer/connectors/data_connector.py:432: PossibleUserWarning: The dataloader, train_dataloader, does not have many workers which may be a bottleneck. Consider increasing the value of the `num_workers` argument` (try 16 which is the number of cpus on this machine) in the `DataLoader` init to improve performance.\n",
      "  rank_zero_warn(\n"
     ]
    },
    {
     "data": {
      "application/vnd.jupyter.widget-view+json": {
       "model_id": "9180178f95834ed9816c318ced215338",
       "version_major": 2,
       "version_minor": 0
      },
      "text/plain": [
       "Training: 0it [00:00, ?it/s]"
      ]
     },
     "metadata": {},
     "output_type": "display_data"
    },
    {
     "name": "stderr",
     "output_type": "stream",
     "text": [
      "/home/chen/Desktop/ML/Transformer/transformer/lib/python3.11/site-packages/torch/utils/data/datapipes/iter/combining.py:297: UserWarning: Some child DataPipes are not exhausted when __iter__ is called. We are resetting the buffer and each child DataPipe will read from the start again.\n",
      "  warnings.warn(\"Some child DataPipes are not exhausted when __iter__ is called. We are resetting \"\n"
     ]
    },
    {
     "data": {
      "application/vnd.jupyter.widget-view+json": {
       "model_id": "1dfeba1930bf480eb6cc06a5bac6da3f",
       "version_major": 2,
       "version_minor": 0
      },
      "text/plain": [
       "Validation: 0it [00:00, ?it/s]"
      ]
     },
     "metadata": {},
     "output_type": "display_data"
    },
    {
     "name": "stdout",
     "output_type": "stream",
     "text": [
      "Epoch 0 val loss: tensor(3.3234, device='cuda:0')\n",
      "Epoch 0 train loss: tensor(4.3947, device='cuda:0', grad_fn=<DivBackward0>)\n"
     ]
    },
    {
     "data": {
      "application/vnd.jupyter.widget-view+json": {
       "model_id": "2c3287802b7348f7847301bd5a0ddbcb",
       "version_major": 2,
       "version_minor": 0
      },
      "text/plain": [
       "Validation: 0it [00:00, ?it/s]"
      ]
     },
     "metadata": {},
     "output_type": "display_data"
    },
    {
     "name": "stdout",
     "output_type": "stream",
     "text": [
      "Epoch 1 val loss: tensor(2.7482, device='cuda:0')\n",
      "Epoch 1 train loss: tensor(2.9848, device='cuda:0', grad_fn=<DivBackward0>)\n"
     ]
    },
    {
     "data": {
      "application/vnd.jupyter.widget-view+json": {
       "model_id": "fdb1a6d814a04d1eb9d0ae373ad5cdff",
       "version_major": 2,
       "version_minor": 0
      },
      "text/plain": [
       "Validation: 0it [00:00, ?it/s]"
      ]
     },
     "metadata": {},
     "output_type": "display_data"
    },
    {
     "name": "stdout",
     "output_type": "stream",
     "text": [
      "Epoch 2 val loss: tensor(2.4780, device='cuda:0')\n",
      "Epoch 2 train loss: tensor(2.5046, device='cuda:0', grad_fn=<DivBackward0>)\n"
     ]
    },
    {
     "data": {
      "application/vnd.jupyter.widget-view+json": {
       "model_id": "4d8c4fa17e00473b8b0635d401736e0c",
       "version_major": 2,
       "version_minor": 0
      },
      "text/plain": [
       "Validation: 0it [00:00, ?it/s]"
      ]
     },
     "metadata": {},
     "output_type": "display_data"
    },
    {
     "name": "stdout",
     "output_type": "stream",
     "text": [
      "Epoch 3 val loss: tensor(2.3084, device='cuda:0')\n",
      "Epoch 3 train loss: tensor(2.1959, device='cuda:0', grad_fn=<DivBackward0>)\n"
     ]
    },
    {
     "data": {
      "application/vnd.jupyter.widget-view+json": {
       "model_id": "425c17039d4043cba4d99e4a858823ba",
       "version_major": 2,
       "version_minor": 0
      },
      "text/plain": [
       "Validation: 0it [00:00, ?it/s]"
      ]
     },
     "metadata": {},
     "output_type": "display_data"
    },
    {
     "name": "stdout",
     "output_type": "stream",
     "text": [
      "Epoch 4 val loss: tensor(2.2112, device='cuda:0')\n",
      "Epoch 4 train loss: tensor(1.9623, device='cuda:0', grad_fn=<DivBackward0>)\n"
     ]
    },
    {
     "data": {
      "application/vnd.jupyter.widget-view+json": {
       "model_id": "a165176809504dcda27f3ef513f8e2c8",
       "version_major": 2,
       "version_minor": 0
      },
      "text/plain": [
       "Validation: 0it [00:00, ?it/s]"
      ]
     },
     "metadata": {},
     "output_type": "display_data"
    },
    {
     "name": "stdout",
     "output_type": "stream",
     "text": [
      "Epoch 5 val loss: tensor(2.1280, device='cuda:0')\n",
      "Epoch 5 train loss: tensor(1.7663, device='cuda:0', grad_fn=<DivBackward0>)\n"
     ]
    },
    {
     "data": {
      "application/vnd.jupyter.widget-view+json": {
       "model_id": "2aaf9e1eff81455fabbcd34a245f7543",
       "version_major": 2,
       "version_minor": 0
      },
      "text/plain": [
       "Validation: 0it [00:00, ?it/s]"
      ]
     },
     "metadata": {},
     "output_type": "display_data"
    },
    {
     "name": "stdout",
     "output_type": "stream",
     "text": [
      "Epoch 6 val loss: tensor(2.0790, device='cuda:0')\n",
      "Epoch 6 train loss: tensor(1.5881, device='cuda:0', grad_fn=<DivBackward0>)\n"
     ]
    },
    {
     "data": {
      "application/vnd.jupyter.widget-view+json": {
       "model_id": "78ddf8d077a04ba098006f0455cb540f",
       "version_major": 2,
       "version_minor": 0
      },
      "text/plain": [
       "Validation: 0it [00:00, ?it/s]"
      ]
     },
     "metadata": {},
     "output_type": "display_data"
    },
    {
     "name": "stdout",
     "output_type": "stream",
     "text": [
      "Epoch 7 val loss: tensor(2.0730, device='cuda:0')\n",
      "Epoch 7 train loss: tensor(1.4321, device='cuda:0', grad_fn=<DivBackward0>)\n"
     ]
    },
    {
     "data": {
      "application/vnd.jupyter.widget-view+json": {
       "model_id": "ec5c72a8005b4f45aa8c102df3d92ad7",
       "version_major": 2,
       "version_minor": 0
      },
      "text/plain": [
       "Validation: 0it [00:00, ?it/s]"
      ]
     },
     "metadata": {},
     "output_type": "display_data"
    },
    {
     "name": "stdout",
     "output_type": "stream",
     "text": [
      "Epoch 8 val loss: tensor(2.0732, device='cuda:0')\n",
      "Epoch 8 train loss: tensor(1.2913, device='cuda:0', grad_fn=<DivBackward0>)\n"
     ]
    },
    {
     "data": {
      "application/vnd.jupyter.widget-view+json": {
       "model_id": "1b56287685444368b1ef1c6a71e3084f",
       "version_major": 2,
       "version_minor": 0
      },
      "text/plain": [
       "Validation: 0it [00:00, ?it/s]"
      ]
     },
     "metadata": {},
     "output_type": "display_data"
    },
    {
     "name": "stdout",
     "output_type": "stream",
     "text": [
      "Epoch 9 val loss: tensor(2.0558, device='cuda:0')\n",
      "Epoch 9 train loss: tensor(1.1615, device='cuda:0', grad_fn=<DivBackward0>)\n"
     ]
    },
    {
     "name": "stderr",
     "output_type": "stream",
     "text": [
      "/home/chen/Desktop/ML/Transformer/transformer/lib/python3.11/site-packages/pytorch_lightning/trainer/call.py:52: UserWarning: Detected KeyboardInterrupt, attempting graceful shutdown...\n",
      "  rank_zero_warn(\"Detected KeyboardInterrupt, attempting graceful shutdown...\")\n"
     ]
    },
    {
     "ename": "",
     "evalue": "",
     "output_type": "error",
     "traceback": [
      "\u001b[1;31mThe Kernel crashed while executing code in the the current cell or a previous cell. Please review the code in the cell(s) to identify a possible cause of the failure. Click <a href='https://aka.ms/vscodeJupyterKernelCrash'>here</a> for more info. View Jupyter <a href='command:jupyter.viewOutput'>log</a> for further details."
     ]
    }
   ],
   "source": [
    "trainer.fit(model, train_dl, val_dl)"
   ]
  },
  {
   "cell_type": "code",
   "execution_count": 366,
   "metadata": {},
   "outputs": [
    {
     "name": "stderr",
     "output_type": "stream",
     "text": [
      "LOCAL_RANK: 0 - CUDA_VISIBLE_DEVICES: [0]\n"
     ]
    },
    {
     "data": {
      "application/vnd.jupyter.widget-view+json": {
       "model_id": "9b557e5e0c8e49bc8c0e0d141dd30ee4",
       "version_major": 2,
       "version_minor": 0
      },
      "text/plain": [
       "Validation: 0it [00:00, ?it/s]"
      ]
     },
     "metadata": {},
     "output_type": "display_data"
    },
    {
     "name": "stdout",
     "output_type": "stream",
     "text": [
      "Epoch 1 val loss: tensor(3.0236, device='cuda:0')\n",
      "────────────────────────────────────────────────────────────────────────────────────────────────────────────────────────\n",
      "Runningstage.validating metric      DataLoader 0\n",
      "────────────────────────────────────────────────────────────────────────────────────────────────────────────────────────\n",
      "      val_accuracy          0.2608773410320282\n",
      "        val_loss            3.0202431678771973\n",
      "────────────────────────────────────────────────────────────────────────────────────────────────────────────────────────\n"
     ]
    },
    {
     "data": {
      "text/plain": [
       "[{'val_accuracy': 0.2608773410320282, 'val_loss': 3.0202431678771973}]"
      ]
     },
     "execution_count": 366,
     "metadata": {},
     "output_type": "execute_result"
    }
   ],
   "source": [
    "trainer.validate(model, val_dl)"
   ]
  }
 ],
 "metadata": {
  "kernelspec": {
   "display_name": "Python 3",
   "language": "python",
   "name": "python3"
  },
  "language_info": {
   "codemirror_mode": {
    "name": "ipython",
    "version": 3
   },
   "file_extension": ".py",
   "mimetype": "text/x-python",
   "name": "python",
   "nbconvert_exporter": "python",
   "pygments_lexer": "ipython3",
   "version": "3.11.2"
  },
  "orig_nbformat": 4,
  "vscode": {
   "interpreter": {
    "hash": "916dbcbb3f70747c44a77c7bcd40155683ae19c65e1c03b4aa3499c5328201f1"
   }
  }
 },
 "nbformat": 4,
 "nbformat_minor": 2
}
