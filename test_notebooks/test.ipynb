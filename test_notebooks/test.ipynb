{
 "cells": [
  {
   "cell_type": "code",
   "execution_count": 1,
   "metadata": {},
   "outputs": [],
   "source": [
    "import torch "
   ]
  },
  {
   "cell_type": "code",
   "execution_count": 3,
   "metadata": {},
   "outputs": [],
   "source": [
    "target_seqs = torch.tensor([[1, 2, 3, 4, 5, 6, 7, 8, 9, 10]])\n",
    "predicted_seq = torch.tensor([[1, 2, 3, 4, 5, 6, 7, 8, 9, 10]])"
   ]
  },
  {
   "cell_type": "code",
   "execution_count": null,
   "metadata": {},
   "outputs": [],
   "source": [
    "def bleu(target_seqs, predicted_seq):\n",
    "    ''' Compute the BLEU score between target_seqs and predicted_seq.\n",
    "    \n",
    "    Inputs:\n",
    "\t\t`target_seqs`: Tensor<Int>[B, T] target sequences tensor.\n",
    "\t\t`predicted_seq`: Tensor<Int>[B, T] predicted sequence tensor.\n",
    "\n",
    "\tOutputs:\n",
    "\t\tTensor<Float>[B, T_q, C] output tensor.\n",
    "    '''\n",
    "    brevity_penalty = min(1-)"
   ]
  },
  {
   "cell_type": "code",
   "execution_count": 5,
   "metadata": {},
   "outputs": [],
   "source": [
    "import torch\n",
    "from torchtext.data.utils import get_tokenizer\n",
    "from torchtext.vocab import build_vocab_from_iterator\n",
    "from torchtext.datasets import multi30k, Multi30k\n",
    "from torch.nn.utils.rnn import pad_sequence\n",
    "from typing import Iterable, List\n",
    "from dataclasses import dataclass"
   ]
  },
  {
   "cell_type": "code",
   "execution_count": 6,
   "metadata": {},
   "outputs": [],
   "source": [
    "# Define special symbols and indices\n",
    "UNK_IDX, BOS_IDX, EOS_IDX, PAD_IDX = 0, 1, 2, 3\n",
    "\n",
    "# helper function to club together sequential operations\n",
    "def sequential_transforms(*transforms):\n",
    "    def func(txt_input):\n",
    "        for transform in transforms:\n",
    "            txt_input = transform(txt_input)\n",
    "        return txt_input\n",
    "    return func\n",
    "\n",
    "# function to add BOS/EOS and create tensor for input sequence indices\n",
    "def tensor_transform(token_ids: List[int]):\n",
    "    return torch.cat((torch.tensor([BOS_IDX]),\n",
    "                      torch.tensor(token_ids),\n",
    "                      torch.tensor([EOS_IDX])))\n",
    "\n",
    "# helper function to yield list of tokens\n",
    "def yield_tokens(data_iter: Iterable, language: str) -> List[str]:\n",
    "    language_index = {'en': 0, 'fr': 1}\n",
    "\n",
    "    for line in data_iter:\n",
    "        yield token_transform[language](line.lower())"
   ]
  },
  {
   "cell_type": "code",
   "execution_count": 12,
   "metadata": {},
   "outputs": [
    {
     "name": "stdout",
     "output_type": "stream",
     "text": [
      "Vocab size for en: 118961\n",
      "Vocab size for fr: 133485\n"
     ]
    }
   ],
   "source": [
    "# Place-holders\n",
    "token_transform = {}\n",
    "vocab_transform = {}\n",
    "\n",
    "SRC_LANG = 'en'\n",
    "TGT_LANG = 'fr'\n",
    "\n",
    "token_transform[SRC_LANG] = get_tokenizer('spacy', language='en_core_web_sm')\n",
    "token_transform[TGT_LANG] = get_tokenizer('spacy', language='fr_core_news_sm')\n",
    "\n",
    "# Make sure the tokens are in order of their indices to properly insert them in vocab\n",
    "special_symbols = ['<unk>', '<bos>', '<eos>', '<pad>']\n",
    "\n",
    "for ln in [SRC_LANG, TGT_LANG]:\n",
    "\t# Training data Iterator\n",
    "\twith open(f'data/un/undoc.2000.fr-en.{ln}', encoding=\"utf8\") as f:\n",
    "\t\t# Create torchtext's Vocab object\n",
    "\t\tvocab_transform[ln] = build_vocab_from_iterator(yield_tokens(f, ln),\n",
    "\t\t\t\t\t\t\t\t\t\t\t\t\t\tmin_freq=10,\t\n",
    "\t\t\t\t\t\t\t\t\t\t\t\t\t\tspecials=special_symbols,\n",
    "\t\t\t\t\t\t\t\t\t\t\t\t\t\tspecial_first=True)\n",
    "\t\n",
    "# Set UNK_IDX as the default index. This index is returned when the token is not found.\n",
    "# If not set, it throws RuntimeError when the queried token is not found in the Vocabulary.\n",
    "for ln in [SRC_LANG, TGT_LANG]:\n",
    "\tvocab_transform[ln].set_default_index(UNK_IDX)\n",
    "\n",
    "\n",
    "# src and tgt language text transforms to convert raw strings into tensors indices\n",
    "text_transform = {}\n",
    "for ln in [SRC_LANG, TGT_LANG]:\n",
    "\ttext_transform[ln] = sequential_transforms(token_transform[ln], #Tokenization\n",
    "\t\t\t\t\t\t\t\t\t\t\tvocab_transform[ln], #Numericalization\n",
    "\t\t\t\t\t\t\t\t\t\t\ttensor_transform) # Add BOS/EOS and create tensor\n",
    "\n",
    "\n",
    "# print vocab sizes\n",
    "print(f\"Vocab size for {SRC_LANG}: {len(vocab_transform[SRC_LANG])}\")\n",
    "print(f\"Vocab size for {TGT_LANG}: {len(vocab_transform[TGT_LANG])}\")"
   ]
  },
  {
   "cell_type": "code",
   "execution_count": 15,
   "metadata": {},
   "outputs": [
    {
     "data": {
      "text/plain": [
       "64216"
      ]
     },
     "execution_count": 15,
     "metadata": {},
     "output_type": "execute_result"
    }
   ],
   "source": [
    "vocab_transform['en']['reckon']"
   ]
  },
  {
   "cell_type": "code",
   "execution_count": 10,
   "metadata": {},
   "outputs": [],
   "source": [
    "from pickle import dump"
   ]
  },
  {
   "cell_type": "code",
   "execution_count": 18,
   "metadata": {},
   "outputs": [],
   "source": [
    "dump(vocab_transform['fr'], open('tgt_vocab.pkl', 'wb'))"
   ]
  },
  {
   "cell_type": "code",
   "execution_count": 1,
   "metadata": {},
   "outputs": [],
   "source": [
    "import spacy"
   ]
  },
  {
   "cell_type": "code",
   "execution_count": 2,
   "metadata": {},
   "outputs": [],
   "source": [
    "nlp = spacy.load('en_core_web_sm')"
   ]
  },
  {
   "cell_type": "code",
   "execution_count": 6,
   "metadata": {},
   "outputs": [
    {
     "data": {
      "text/plain": [
       "spacy.tokens.token.Token"
      ]
     },
     "execution_count": 6,
     "metadata": {},
     "output_type": "execute_result"
    }
   ],
   "source": [
    "."
   ]
  },
  {
   "cell_type": "code",
   "execution_count": 7,
   "metadata": {},
   "outputs": [],
   "source": [
    "from pickle import load"
   ]
  },
  {
   "cell_type": "code",
   "execution_count": 8,
   "metadata": {},
   "outputs": [],
   "source": [
    "vocab = load(open('tgt_vocab.pkl', 'rb'))"
   ]
  },
  {
   "cell_type": "code",
   "execution_count": 17,
   "metadata": {},
   "outputs": [
    {
     "data": {
      "text/plain": [
       "67044"
      ]
     },
     "execution_count": 17,
     "metadata": {},
     "output_type": "execute_result"
    }
   ],
   "source": [
    "vocab.get_stoi()[str(list(nlp('hi who are you?'))[0])]"
   ]
  },
  {
   "cell_type": "code",
   "execution_count": null,
   "metadata": {},
   "outputs": [],
   "source": []
  }
 ],
 "metadata": {
  "kernelspec": {
   "display_name": "Python 3",
   "language": "python",
   "name": "python3"
  },
  "language_info": {
   "codemirror_mode": {
    "name": "ipython",
    "version": 3
   },
   "file_extension": ".py",
   "mimetype": "text/x-python",
   "name": "python",
   "nbconvert_exporter": "python",
   "pygments_lexer": "ipython3",
   "version": "3.11.2"
  },
  "orig_nbformat": 4
 },
 "nbformat": 4,
 "nbformat_minor": 2
}
